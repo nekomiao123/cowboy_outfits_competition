{
 "cells": [
  {
   "cell_type": "markdown",
   "id": "eaf468f8",
   "metadata": {
    "_cell_guid": "b1076dfc-b9ad-4769-8c92-a6c4dae69d19",
    "_uuid": "8f2839f25d086af736a60e9eeb907d3b93b6e0e5",
    "papermill": {
     "duration": 0.026143,
     "end_time": "2021-07-26T13:01:02.868884",
     "exception": false,
     "start_time": "2021-07-26T13:01:02.842741",
     "status": "completed"
    },
    "tags": []
   },
   "source": [
    "<p style='text-align: center;'><span style=\"color: #000508; font-family: Segoe UI; font-size: 2.5em; font-weight: 300;\">Cowboy outfits detection MMDetection+CascadeRCNN+Weight&Bias</span></p>"
   ]
  },
  {
   "cell_type": "markdown",
   "id": "57d5f14a",
   "metadata": {
    "execution": {
     "iopub.execute_input": "2021-07-26T03:14:32.759254Z",
     "iopub.status.busy": "2021-07-26T03:14:32.758685Z",
     "iopub.status.idle": "2021-07-26T03:14:33.005808Z",
     "shell.execute_reply": "2021-07-26T03:14:33.00449Z",
     "shell.execute_reply.started": "2021-07-26T03:14:32.759219Z"
    },
    "papermill": {
     "duration": 0.024458,
     "end_time": "2021-07-26T13:01:02.919252",
     "exception": false,
     "start_time": "2021-07-26T13:01:02.894794",
     "status": "completed"
    },
    "tags": []
   },
   "source": [
    "<span style=\"color: #E45D00; font-family: Segoe UI; font-size: 1.9em; font-weight: 300;\">Overview</span>\n",
    "\n",
    "&nbsp;&nbsp;✅&nbsp;&nbsp;MMDetection and Weights & Biases Setup<br>\n",
    "&nbsp;&nbsp;✅&nbsp;&nbsp;Preparation of MMDetection Config<br>\n",
    "&nbsp;&nbsp;✅&nbsp;&nbsp;Weights & Biases Integration<br>\n",
    "&nbsp;&nbsp;✅&nbsp;&nbsp;Training and Evaluation<br>\n",
    "&nbsp;&nbsp;✅&nbsp;&nbsp;Experiment Tracking and Logging with Weights & Biases<br>\n",
    "&nbsp;&nbsp;✅&nbsp;&nbsp;Inference<br>\n",
    "\n",
    "<span style=\"color: #E45D00; font-family: Segoe UI; font-size: 1.9em; font-weight: 300;\">MMDetection</span>\n",
    "\n",
    "[MMDetection](https://github.com/open-mmlab/mmdetection) is an open-source toolbox based on PyTorch for Object Detection and Segmentation tasks. The toolbox supports over **50+ baselines**.\n",
    "\n",
    "<span style=\"color: #000508; font-family: Segoe UI; font-size: 1.4em;\">🧫 Features:</span>\n",
    "\n",
    "<p style='text-align: justify; font-family: Segoe UI;'><span style=\"color: #000508;  font-size: 1.1em; font-weight: 600;\">Modular Design</span>: The framework is split into different components and we can easily construct a customized object detection framework by combining different modules.</p>\n",
    "\n",
    "<p style='text-align: justify; font-family: Segoe UI;'><span style=\"color: #000508;  font-size: 1.1em; font-weight: 600;\">Support of multiple frameworks out of box</span>: The toolbox directly supports popular and contemporary detection frameworks, e.g. Faster RCNN, Mask RCNN, RetinaNet, etc.</p>\n",
    "\n",
    "<p style='text-align: justify; font-family: Segoe UI;'><span style=\"color: #000508;  font-size: 1.1em; font-weight: 600;\">High efficiency</span>: All basic bbox and mask operations run on GPUs. The training speed is faster than or comparable to other codebases, including Detectron2, maskrcnn-benchmark and SimpleDet.</p>\n",
    "\n",
    "<p style='text-align: justify; font-family: Segoe UI;'><span style=\"color: #000508;  font-size: 1.1em; font-weight: 600;\">State of the art</span>: The toolbox stems from the codebase developed by the MMDet team, who won COCO Detection Challenge in 2018.</p>\n",
    "\n",
    "\n",
    "<span style=\"color: #000508; font-family: Segoe UI; font-size: 1.4em;\">🎆 References:</span>\n",
    "\n",
    "- **Some amazing notebooks on MMdetection from [Sreevishnu Damodaran](https://www.kaggle.com/sreevishnudamodaran)**\n",
    "    - https://www.kaggle.com/sreevishnudamodaran/siim-mmdetection-cascadercnn-weight-bias\n",
    "\n",
    "\n",
    "- https://www.kaggle.com/c/cowboyoutfits/discussion/254656\n",
    "- https://www.kaggle.com/c/cowboyoutfits/discussion/254354\n",
    "\n",
    "<span style=\"color: #000508; font-family: Segoe UI; font-size: 1.4em;\">Please upvote if you like this</span>\n",
    "\n"
   ]
  },
  {
   "cell_type": "markdown",
   "id": "ab379426",
   "metadata": {
    "papermill": {
     "duration": 0.024639,
     "end_time": "2021-07-26T13:01:02.968667",
     "exception": false,
     "start_time": "2021-07-26T13:01:02.944028",
     "status": "completed"
    },
    "tags": []
   },
   "source": [
    "<span style=\"color: #E45D00; font-family: Segoe UI; font-size: 1.9em; font-weight: 300;\">📐 Setup MMDetection</span>"
   ]
  },
  {
   "cell_type": "code",
   "execution_count": 1,
   "id": "1cc8b3bb",
   "metadata": {
    "execution": {
     "iopub.execute_input": "2021-07-26T13:01:03.023674Z",
     "iopub.status.busy": "2021-07-26T13:01:03.022152Z",
     "iopub.status.idle": "2021-07-26T13:01:04.940882Z",
     "shell.execute_reply": "2021-07-26T13:01:04.940284Z",
     "shell.execute_reply.started": "2021-07-26T08:19:50.601682Z"
    },
    "papermill": {
     "duration": 1.947309,
     "end_time": "2021-07-26T13:01:04.941048",
     "exception": false,
     "start_time": "2021-07-26T13:01:02.993739",
     "status": "completed"
    },
    "tags": []
   },
   "outputs": [
    {
     "name": "stdout",
     "output_type": "stream",
     "text": [
      "nvcc: NVIDIA (R) Cuda compiler driver\n",
      "Copyright (c) 2005-2020 NVIDIA Corporation\n",
      "Built on Wed_Jul_22_19:09:09_PDT_2020\n",
      "Cuda compilation tools, release 11.0, V11.0.221\n",
      "Build cuda_11.0_bu.TC445_37.28845127_0\n",
      "\n",
      "gcc (Ubuntu 7.5.0-3ubuntu1~18.04) 7.5.0\n",
      "Copyright (C) 2017 Free Software Foundation, Inc.\n",
      "This is free software; see the source for copying conditions.  There is NO\n",
      "warranty; not even for MERCHANTABILITY or FITNESS FOR A PARTICULAR PURPOSE.\n",
      "\n",
      "\n",
      "jaxlib                         0.1.68+cuda110\n",
      "nnabla-ext-cuda110             1.20.1\n",
      "pycuda                         2021.1\n",
      "pytorch-ignite                 0.4.5\n",
      "pytorch-lightning              1.3.8\n",
      "torch                          1.7.0\n",
      "torchaudio                     0.7.0a0+ac17b64\n",
      "torchmetrics                   0.4.1\n",
      "torchtext                      0.8.0a0+cd6902d\n",
      "torchvision                    0.8.1\n"
     ]
    }
   ],
   "source": [
    "%%bash\n",
    "# Check nvcc version\n",
    "nvcc -V\n",
    "echo\n",
    "# Check GCC version\n",
    "gcc --version\n",
    "echo\n",
    "# Check the version of torch and cuda packages\n",
    "pip list | grep \"torch\\|cuda\""
   ]
  },
  {
   "cell_type": "code",
   "execution_count": 2,
   "id": "8b86d80c",
   "metadata": {
    "execution": {
     "iopub.execute_input": "2021-07-26T13:01:05.002151Z",
     "iopub.status.busy": "2021-07-26T13:01:05.001427Z",
     "iopub.status.idle": "2021-07-26T13:01:19.784591Z",
     "shell.execute_reply": "2021-07-26T13:01:19.784131Z",
     "shell.execute_reply.started": "2021-07-26T08:19:52.383182Z"
    },
    "papermill": {
     "duration": 14.815908,
     "end_time": "2021-07-26T13:01:19.784720",
     "exception": false,
     "start_time": "2021-07-26T13:01:04.968812",
     "status": "completed"
    },
    "tags": []
   },
   "outputs": [],
   "source": [
    "%%capture\n",
    "!pip install mmcv-full==1.3.8 -f https://download.openmmlab.com/mmcv/dist/cu110/torch1.7.0/index.html"
   ]
  },
  {
   "cell_type": "code",
   "execution_count": 3,
   "id": "ab0a1974",
   "metadata": {
    "execution": {
     "iopub.execute_input": "2021-07-26T13:01:19.844217Z",
     "iopub.status.busy": "2021-07-26T13:01:19.843438Z",
     "iopub.status.idle": "2021-07-26T13:01:54.667093Z",
     "shell.execute_reply": "2021-07-26T13:01:54.666556Z",
     "shell.execute_reply.started": "2021-07-26T08:20:05.659521Z"
    },
    "papermill": {
     "duration": 34.855954,
     "end_time": "2021-07-26T13:01:54.667287",
     "exception": false,
     "start_time": "2021-07-26T13:01:19.811333",
     "status": "completed"
    },
    "tags": []
   },
   "outputs": [],
   "source": [
    "%%capture\n",
    "!rm -rf mmdetection\n",
    "!git clone https://github.com/open-mmlab/mmdetection.git\n",
    "!cd mmdetection && pip install -e .\n",
    "\n",
    "!pip install Pillow==7.0.0"
   ]
  },
  {
   "cell_type": "markdown",
   "id": "7f6ca9bc",
   "metadata": {
    "papermill": {
     "duration": 0.02684,
     "end_time": "2021-07-26T13:01:54.724140",
     "exception": false,
     "start_time": "2021-07-26T13:01:54.697300",
     "status": "completed"
    },
    "tags": []
   },
   "source": [
    "<span style=\"color: #E45D00; font-family: Segoe UI; font-size: 1.9em; font-weight: 300;\">Setup Weights & Biases</span>"
   ]
  },
  {
   "cell_type": "code",
   "execution_count": 4,
   "id": "c8c206fb",
   "metadata": {
    "execution": {
     "iopub.execute_input": "2021-07-26T13:01:54.793026Z",
     "iopub.status.busy": "2021-07-26T13:01:54.791985Z",
     "iopub.status.idle": "2021-07-26T13:02:04.701819Z",
     "shell.execute_reply": "2021-07-26T13:02:04.700940Z",
     "shell.execute_reply.started": "2021-07-26T08:20:40.834673Z"
    },
    "papermill": {
     "duration": 9.951112,
     "end_time": "2021-07-26T13:02:04.701991",
     "exception": false,
     "start_time": "2021-07-26T13:01:54.750879",
     "status": "completed"
    },
    "tags": []
   },
   "outputs": [],
   "source": [
    "%%capture\n",
    "!pip install wandb --upgrade"
   ]
  },
  {
   "cell_type": "markdown",
   "id": "455cd6f2",
   "metadata": {
    "papermill": {
     "duration": 0.025175,
     "end_time": "2021-07-26T13:02:04.753012",
     "exception": false,
     "start_time": "2021-07-26T13:02:04.727837",
     "status": "completed"
    },
    "tags": []
   },
   "source": [
    "To connect the Kaggle Notebook and log in to Weights & Biases, we need to create an API key:\n",
    "\n",
    "1. New users can sign up for a Free Weights & Biases account for Research and Personal use from the https://wandb.ai/site page. Sign up process takes around 1-2 minutes.\n",
    "2. Now get the API key from https://wandb.ai/authorize.\n",
    "\n",
    "Login to Weights & Biases from the notebook with the API key by using any of the two methods below:\n",
    "\n",
    "* Interative:\n",
    "    1. Run a cell with wandb.login(). It will ask for the API key, which can be copied and pasted to authenticate.\n",
    "\n",
    "* Kaggle Secrets:\n",
    "    1. The recommended way to use the API key is to use Kaggle Secrets to store the API key. From the top Menu on the Notebook Editor, click on 'Add-ons' and then, select 'Secrets'.\n",
    "    2. Select 'Add a new secret' and provide 'wandb_key' for label and it's value as the API key obtained from the previous steps."
   ]
  },
  {
   "cell_type": "code",
   "execution_count": 5,
   "id": "39b250d2",
   "metadata": {
    "execution": {
     "iopub.execute_input": "2021-07-26T13:02:04.808338Z",
     "iopub.status.busy": "2021-07-26T13:02:04.807564Z",
     "iopub.status.idle": "2021-07-26T13:02:05.901532Z",
     "shell.execute_reply": "2021-07-26T13:02:05.901116Z",
     "shell.execute_reply.started": "2021-07-26T08:20:50.314148Z"
    },
    "papermill": {
     "duration": 1.123236,
     "end_time": "2021-07-26T13:02:05.901654",
     "exception": false,
     "start_time": "2021-07-26T13:02:04.778418",
     "status": "completed"
    },
    "tags": []
   },
   "outputs": [
    {
     "name": "stderr",
     "output_type": "stream",
     "text": [
      "\u001b[34m\u001b[1mwandb\u001b[0m: W&B API key is configured (use `wandb login --relogin` to force relogin)\n",
      "\u001b[34m\u001b[1mwandb\u001b[0m: \u001b[33mWARNING\u001b[0m If you're specifying your api key in code, ensure this code is not shared publically.\n",
      "\u001b[34m\u001b[1mwandb\u001b[0m: \u001b[33mWARNING\u001b[0m Consider setting the WANDB_API_KEY environment variable, or running `wandb login` from the command line.\n",
      "\u001b[34m\u001b[1mwandb\u001b[0m: Appending key for api.wandb.ai to your netrc file: /root/.netrc\n"
     ]
    },
    {
     "data": {
      "text/plain": [
       "True"
      ]
     },
     "execution_count": 5,
     "metadata": {},
     "output_type": "execute_result"
    }
   ],
   "source": [
    "import wandb\n",
    "from kaggle_secrets import UserSecretsClient\n",
    "\n",
    "user_secrets = UserSecretsClient()\n",
    "\n",
    "# I have saved my API token with \"wandb_api\" as Label. \n",
    "# If you use some other Label make sure to change the same below. \n",
    "wandb_api = user_secrets.get_secret(\"wandb_key\") \n",
    "\n",
    "wandb.login(key=wandb_api)"
   ]
  },
  {
   "cell_type": "markdown",
   "id": "0e2ecd3d",
   "metadata": {
    "papermill": {
     "duration": 0.026476,
     "end_time": "2021-07-26T13:02:05.955546",
     "exception": false,
     "start_time": "2021-07-26T13:02:05.929070",
     "status": "completed"
    },
    "tags": []
   },
   "source": [
    "<span style=\"color: #E45D00; font-family: Segoe UI; font-size: 1.9em; font-weight: 300;\">Imports and Seed Everything</span>"
   ]
  },
  {
   "cell_type": "code",
   "execution_count": 6,
   "id": "91ea0dfa",
   "metadata": {
    "execution": {
     "iopub.execute_input": "2021-07-26T13:02:06.014765Z",
     "iopub.status.busy": "2021-07-26T13:02:06.013940Z",
     "iopub.status.idle": "2021-07-26T13:02:20.269284Z",
     "shell.execute_reply": "2021-07-26T13:02:20.268786Z",
     "shell.execute_reply.started": "2021-07-26T08:20:51.559799Z"
    },
    "papermill": {
     "duration": 14.287543,
     "end_time": "2021-07-26T13:02:20.269425",
     "exception": false,
     "start_time": "2021-07-26T13:02:05.981882",
     "status": "completed"
    },
    "tags": []
   },
   "outputs": [
    {
     "name": "stdout",
     "output_type": "stream",
     "text": [
      "1.7.0 True\n",
      "11.0\n",
      "GCC 7.3\n"
     ]
    }
   ],
   "source": [
    "import sys\n",
    "sys.path.insert(0, \"./mmdetection\")\n",
    "\n",
    "import os\n",
    "# Check Pytorch installation\n",
    "import torch, torchvision\n",
    "print(torch.__version__, torch.cuda.is_available())\n",
    "\n",
    "# Check mmcv installation\n",
    "from mmcv.ops import get_compiling_cuda_version, get_compiler_version\n",
    "print(get_compiling_cuda_version())\n",
    "print(get_compiler_version())\n",
    "\n",
    "# Check MMDetection installation\n",
    "from mmdet.apis import set_random_seed\n",
    "\n",
    "# Imports\n",
    "import mmdet\n",
    "from mmdet.apis import set_random_seed\n",
    "from mmdet.datasets import build_dataset\n",
    "from mmdet.models import build_detector\n",
    "from mmdet.apis import train_detector\n",
    "\n",
    "import random\n",
    "import numpy as np\n",
    "from pathlib import Path\n",
    "import copy\n",
    "import json\n",
    "from pycocotools.coco import COCO"
   ]
  },
  {
   "cell_type": "code",
   "execution_count": 7,
   "id": "987fd2e2",
   "metadata": {
    "execution": {
     "iopub.execute_input": "2021-07-26T13:02:20.329088Z",
     "iopub.status.busy": "2021-07-26T13:02:20.328440Z",
     "iopub.status.idle": "2021-07-26T13:02:20.335478Z",
     "shell.execute_reply": "2021-07-26T13:02:20.335042Z",
     "shell.execute_reply.started": "2021-07-26T08:21:06.495613Z"
    },
    "papermill": {
     "duration": 0.039012,
     "end_time": "2021-07-26T13:02:20.335591",
     "exception": false,
     "start_time": "2021-07-26T13:02:20.296579",
     "status": "completed"
    },
    "tags": []
   },
   "outputs": [],
   "source": [
    "seed = 123\n",
    "\n",
    "\"\"\"Sets the random seeds.\"\"\"\n",
    "set_random_seed(seed, deterministic=False)\n",
    "random.seed(seed)\n",
    "np.random.seed(seed)\n",
    "torch.manual_seed(seed)\n",
    "torch.cuda.manual_seed(seed)\n",
    "torch.backends.cudnn.deterministic = True\n",
    "torch.backends.cudnn.benchmark = False\n",
    "os.environ['PYTHONHASHSEED'] = str(seed)"
   ]
  },
  {
   "cell_type": "markdown",
   "id": "e0f2dc73",
   "metadata": {
    "papermill": {
     "duration": 0.026356,
     "end_time": "2021-07-26T13:02:20.388733",
     "exception": false,
     "start_time": "2021-07-26T13:02:20.362377",
     "status": "completed"
    },
    "tags": []
   },
   "source": [
    "<span style=\"color: #E45D00; font-family: Segoe UI; font-size: 1.9em; font-weight: 300;\">Split Train and Valid Data Set</span>\n"
   ]
  },
  {
   "cell_type": "code",
   "execution_count": 8,
   "id": "7263c8ce",
   "metadata": {
    "execution": {
     "iopub.execute_input": "2021-07-26T13:02:20.452645Z",
     "iopub.status.busy": "2021-07-26T13:02:20.445530Z",
     "iopub.status.idle": "2021-07-26T13:02:20.569735Z",
     "shell.execute_reply": "2021-07-26T13:02:20.570154Z",
     "shell.execute_reply.started": "2021-07-26T08:21:06.509482Z"
    },
    "papermill": {
     "duration": 0.154742,
     "end_time": "2021-07-26T13:02:20.570294",
     "exception": false,
     "start_time": "2021-07-26T13:02:20.415552",
     "status": "completed"
    },
    "tags": []
   },
   "outputs": [],
   "source": [
    "!mkdir new_anno"
   ]
  },
  {
   "cell_type": "markdown",
   "id": "883196d3",
   "metadata": {
    "papermill": {
     "duration": 0.026386,
     "end_time": "2021-07-26T13:02:20.623740",
     "exception": false,
     "start_time": "2021-07-26T13:02:20.597354",
     "status": "completed"
    },
    "tags": []
   },
   "source": [
    "You can change the test_n to get a different split"
   ]
  },
  {
   "cell_type": "code",
   "execution_count": 9,
   "id": "6f3f66a4",
   "metadata": {
    "execution": {
     "iopub.execute_input": "2021-07-26T13:02:20.694110Z",
     "iopub.status.busy": "2021-07-26T13:02:20.693568Z",
     "iopub.status.idle": "2021-07-26T13:02:20.992017Z",
     "shell.execute_reply": "2021-07-26T13:02:20.991527Z",
     "shell.execute_reply.started": "2021-07-26T08:21:06.64025Z"
    },
    "papermill": {
     "duration": 0.341789,
     "end_time": "2021-07-26T13:02:20.992145",
     "exception": false,
     "start_time": "2021-07-26T13:02:20.650356",
     "status": "completed"
    },
    "tags": []
   },
   "outputs": [
    {
     "name": "stdout",
     "output_type": "stream",
     "text": [
      "loading annotations into memory...\n",
      "Done (t=0.05s)\n",
      "creating index...\n",
      "index created!\n",
      "180 1177 180 180 997\n",
      "173 346 173 170 176\n",
      "103 206 103 99 107\n",
      "180 1420 180 170 1250\n",
      "10 21 10 10 11\n",
      "train img ids #: 2435 train anno #: 4396\n",
      "valid img ids #: 627 test anno #: 1198\n",
      "new train split, images: 2435 annos: 4396\n",
      "new valid split, images: 627 annos: 1198\n"
     ]
    }
   ],
   "source": [
    "random.seed(seed)\n",
    "\n",
    "def create_subset(c, cats, test_n=180):\n",
    "    new_coco = {}\n",
    "    new_coco['info'] = {\"description\": \"CowboySuit\",\n",
    "                        \"url\": \"http://github.com/dmlc/gluon-cv\",\n",
    "                        \"version\": \"1.0\",\"year\": 2021,\n",
    "                        \"contributor\": \"GluonCV/AutoGluon\",\n",
    "                        \"date_created\": \"2021/07/01\"}\n",
    "    new_coco[\"licenses\"]: [\n",
    "        {\"url\": \"http://creativecommons.org/licenses/by/2.0/\",\"id\": 4,\"name\": \"Attribution License\"}]\n",
    "    cat_ids = c.getCatIds(cats)\n",
    "    train_img_ids = set()\n",
    "\n",
    "    test_img_ids = set()\n",
    "    for cat in cat_ids[::-1]:\n",
    "        img_ids = copy.copy(c.getImgIds(catIds=[cat]))\n",
    "        random.shuffle(img_ids)\n",
    "        tn = min(test_n, int(len(img_ids) * 0.5))\n",
    "        new_test = set(img_ids[:tn])\n",
    "        exist_test_ids = new_test.intersection(train_img_ids)\n",
    "        test_ids = new_test.difference(exist_test_ids)\n",
    "        train_ids = set(img_ids).difference(test_ids)\n",
    "        print(tn, len(img_ids), len(new_test), len(test_ids), len(train_ids))\n",
    "        train_img_ids.update(train_ids)\n",
    "        test_img_ids.update(test_ids)\n",
    "#         print(len(test_img_ids))\n",
    "\n",
    "    # prune duplicates\n",
    "    dup = train_img_ids.intersection(test_img_ids)\n",
    "    train_img_ids = train_img_ids - dup\n",
    "\n",
    "    train_anno_ids = set()\n",
    "    test_anno_ids = set()\n",
    "    for cat in cat_ids:\n",
    "        train_anno_ids.update(c.getAnnIds(imgIds=list(train_img_ids), catIds=[cat]))\n",
    "        test_anno_ids.update(c.getAnnIds(imgIds=list(test_img_ids), catIds=[cat]))\n",
    "\n",
    "    assert len(train_img_ids.intersection(test_img_ids)) == 0, 'img id conflicts, {} '.format(train_img_ids.intersection(test_img_ids))\n",
    "    assert len(train_anno_ids.intersection(test_anno_ids)) == 0, 'anno id conflicts'\n",
    "    print('train img ids #:', len(train_img_ids), 'train anno #:', len(train_anno_ids))\n",
    "    print('valid img ids #:', len(test_img_ids), 'test anno #:', len(test_anno_ids))\n",
    "    new_coco_test = copy.deepcopy(new_coco)\n",
    "\n",
    "    new_coco[\"images\"] = c.loadImgs(list(train_img_ids))\n",
    "    new_coco[\"annotations\"] = c.loadAnns(list(train_anno_ids))\n",
    "    for ann in new_coco[\"annotations\"]:\n",
    "        ann.pop('segmentation', None)\n",
    "    new_coco[\"categories\"] = c.loadCats(cat_ids)\n",
    "\n",
    "    new_coco_test[\"images\"] = c.loadImgs(list(test_img_ids))\n",
    "    new_coco_test[\"annotations\"] = c.loadAnns(list(test_anno_ids))\n",
    "    for ann in new_coco_test[\"annotations\"]:\n",
    "        ann.pop('segmentation', None)\n",
    "    new_coco_test[\"categories\"] = c.loadCats(cat_ids)\n",
    "    print('new train split, images:', len(new_coco[\"images\"]), 'annos:', len(new_coco[\"annotations\"]))\n",
    "    print('new valid split, images:', len(new_coco_test[\"images\"]), 'annos:', len(new_coco_test[\"annotations\"]))\n",
    "    return new_coco, new_coco_test\n",
    "\n",
    "coco = COCO('../input/cowboyoutfits/train.json')\n",
    "nc, nc_test = create_subset(coco, ['belt', 'sunglasses', 'boot', 'cowboy_hat', 'jacket', ])\n",
    "\n",
    "with open('./new_anno/new_train.json', 'w') as f:\n",
    "    json.dump(nc, f)\n",
    "with open('./new_anno/new_valid.json', 'w') as f:\n",
    "    json.dump(nc_test, f)"
   ]
  },
  {
   "cell_type": "markdown",
   "id": "9e05a2a9",
   "metadata": {
    "papermill": {
     "duration": 0.026632,
     "end_time": "2021-07-26T13:02:21.046506",
     "exception": false,
     "start_time": "2021-07-26T13:02:21.019874",
     "status": "completed"
    },
    "tags": []
   },
   "source": [
    "<span style=\"color: #E45D00; font-family: Segoe UI; font-size: 1.9em; font-weight: 300;\">🔨 Prepare the MMDetection Config</span>"
   ]
  },
  {
   "cell_type": "code",
   "execution_count": 10,
   "id": "1627cf23",
   "metadata": {
    "execution": {
     "iopub.execute_input": "2021-07-26T13:02:21.104965Z",
     "iopub.status.busy": "2021-07-26T13:02:21.104162Z",
     "iopub.status.idle": "2021-07-26T13:02:21.120884Z",
     "shell.execute_reply": "2021-07-26T13:02:21.119818Z",
     "shell.execute_reply.started": "2021-07-26T08:21:06.953617Z"
    },
    "papermill": {
     "duration": 0.047652,
     "end_time": "2021-07-26T13:02:21.121017",
     "exception": false,
     "start_time": "2021-07-26T13:02:21.073365",
     "status": "completed"
    },
    "tags": []
   },
   "outputs": [],
   "source": [
    "from mmcv import Config\n",
    "\n",
    "# baseline_cfg_path = \"/kaggle/working/mmdetection/configs/cascade_rcnn/cascade_rcnn_x101_32x4d_fpn_1x_coco.py\"\n",
    "baseline_cfg_path = \"/kaggle/working/mmdetection/configs/cascade_rcnn/cascade_rcnn_r50_fpn_1x_coco.py\"\n",
    "\n",
    "cfg = Config.fromfile(baseline_cfg_path)"
   ]
  },
  {
   "cell_type": "markdown",
   "id": "90869548",
   "metadata": {
    "papermill": {
     "duration": 0.026722,
     "end_time": "2021-07-26T13:02:21.174924",
     "exception": false,
     "start_time": "2021-07-26T13:02:21.148202",
     "status": "completed"
    },
    "tags": []
   },
   "source": [
    "<span style=\"color: #000508; font-family: Segoe UI; font-size: 1.6em; font-weight: 300;\">General Training Settings</span>\n",
    "\n"
   ]
  },
  {
   "cell_type": "code",
   "execution_count": 11,
   "id": "d5741561",
   "metadata": {
    "execution": {
     "iopub.execute_input": "2021-07-26T13:02:21.234392Z",
     "iopub.status.busy": "2021-07-26T13:02:21.233520Z",
     "iopub.status.idle": "2021-07-26T13:02:21.237470Z",
     "shell.execute_reply": "2021-07-26T13:02:21.237024Z",
     "shell.execute_reply.started": "2021-07-26T08:21:06.977791Z"
    },
    "papermill": {
     "duration": 0.035422,
     "end_time": "2021-07-26T13:02:21.237577",
     "exception": false,
     "start_time": "2021-07-26T13:02:21.202155",
     "status": "completed"
    },
    "tags": []
   },
   "outputs": [
    {
     "name": "stdout",
     "output_type": "stream",
     "text": [
      "Job folder: /kaggle/working/job3_cascade_rcnn_r50_fpn_1x\n"
     ]
    }
   ],
   "source": [
    "model_name = 'cascade_rcnn_r50_fpn_1x'\n",
    "job = 3\n",
    "\n",
    "# Folder to store model logs and weight files\n",
    "job_folder = f'/kaggle/working/job{job}_{model_name}'\n",
    "cfg.work_dir = job_folder\n",
    "\n",
    "# Change the wandb username and project name below\n",
    "wnb_username = 'nekokiku'\n",
    "wnb_project_name = 'kaggle_cowboy_outfits'\n",
    "\n",
    "# Set seed thus the results are more reproducible\n",
    "cfg.seed = seed\n",
    "\n",
    "# You should change this if you use different model\n",
    "# cfg.load_from = 'https://download.openmmlab.com/mmdetection/v2.0/cascade_rcnn/cascade_rcnn_r50_fpn_1x_coco/cascade_rcnn_r50_fpn_1x_coco_20200316-3dc56deb.pth'\n",
    "\n",
    "if not os.path.exists(job_folder):\n",
    "    os.makedirs(job_folder)\n",
    "\n",
    "print(\"Job folder:\", job_folder)"
   ]
  },
  {
   "cell_type": "markdown",
   "id": "30c15756",
   "metadata": {
    "papermill": {
     "duration": 0.027093,
     "end_time": "2021-07-26T13:02:21.292422",
     "exception": false,
     "start_time": "2021-07-26T13:02:21.265329",
     "status": "completed"
    },
    "tags": []
   },
   "source": [
    "I just run 4 epochs here, But you can run more !"
   ]
  },
  {
   "cell_type": "code",
   "execution_count": 12,
   "id": "ec836e03",
   "metadata": {
    "execution": {
     "iopub.execute_input": "2021-07-26T13:02:21.354607Z",
     "iopub.status.busy": "2021-07-26T13:02:21.353353Z",
     "iopub.status.idle": "2021-07-26T13:02:21.356194Z",
     "shell.execute_reply": "2021-07-26T13:02:21.355747Z",
     "shell.execute_reply.started": "2021-07-26T08:21:06.987479Z"
    },
    "papermill": {
     "duration": 0.035848,
     "end_time": "2021-07-26T13:02:21.356304",
     "exception": false,
     "start_time": "2021-07-26T13:02:21.320456",
     "status": "completed"
    },
    "tags": []
   },
   "outputs": [],
   "source": [
    "# Set the number of classes\n",
    "for head in cfg.model.roi_head.bbox_head:\n",
    "    head.num_classes = 5\n",
    "\n",
    "cfg.gpu_ids = [0]\n",
    "\n",
    "cfg.runner.max_epochs = 4 # Epochs for the runner that runs the workflow \n",
    "cfg.total_epochs = 4\n",
    "\n",
    "# Learning rate of optimizers. The LR is divided by 8 since the config file is originally for 8 GPUs\n",
    "cfg.optimizer.lr = 0.02/8\n",
    "\n",
    "## Learning rate scheduler config used to register LrUpdater hook\n",
    "cfg.lr_config = dict(\n",
    "    policy='CosineAnnealing', # The policy of scheduler, also support CosineAnnealing, Cyclic, etc. Refer to details of supported LrUpdater from https://github.com/open-mmlab/mmcv/blob/master/mmcv/runner/hooks/lr_updater.py#L9.\n",
    "    by_epoch=False,\n",
    "    warmup='linear', # The warmup policy, also support `exp` and `constant`.\n",
    "    warmup_iters=500, # The number of iterations for warmup\n",
    "    warmup_ratio=0.001, # The ratio of the starting learning rate used for warmup\n",
    "    min_lr=1e-07)\n",
    "\n",
    "# config to register logger hook\n",
    "cfg.log_config.interval = 40 # Interval to print the log\n",
    "\n",
    "# Config to set the checkpoint hook, Refer to https://github.com/open-mmlab/mmcv/blob/master/mmcv/runner/hooks/checkpoint.py for implementation.\n",
    "cfg.checkpoint_config.interval = 1 # The save interval is 1"
   ]
  },
  {
   "cell_type": "markdown",
   "id": "5d223e4b",
   "metadata": {
    "papermill": {
     "duration": 0.027303,
     "end_time": "2021-07-26T13:02:21.411048",
     "exception": false,
     "start_time": "2021-07-26T13:02:21.383745",
     "status": "completed"
    },
    "tags": []
   },
   "source": [
    "<span style=\"color: #000508; font-family: Segoe UI; font-size: 1.6em; font-weight: 300;\">Configure Datasets for Training and Evaluation</span>"
   ]
  },
  {
   "cell_type": "code",
   "execution_count": 13,
   "id": "d7664761",
   "metadata": {
    "execution": {
     "iopub.execute_input": "2021-07-26T13:02:21.472498Z",
     "iopub.status.busy": "2021-07-26T13:02:21.471812Z",
     "iopub.status.idle": "2021-07-26T13:02:21.474790Z",
     "shell.execute_reply": "2021-07-26T13:02:21.475180Z",
     "shell.execute_reply.started": "2021-07-26T08:21:06.996308Z"
    },
    "papermill": {
     "duration": 0.037098,
     "end_time": "2021-07-26T13:02:21.475307",
     "exception": false,
     "start_time": "2021-07-26T13:02:21.438209",
     "status": "completed"
    },
    "tags": []
   },
   "outputs": [],
   "source": [
    "cfg.dataset_type = 'CocoDataset' # Dataset type, this will be used to define the dataset\n",
    "cfg.classes = (\"belt\",\"sunglasses\",\"boot\",\"cowboy_hat\",\"jacket\")\n",
    "\n",
    "data_images = '/kaggle/input/cowboyoutfits/images'\n",
    "\n",
    "cfg.data.train.img_prefix = data_images\n",
    "cfg.data.train.classes = cfg.classes\n",
    "cfg.data.train.ann_file = '/kaggle/working/new_anno/new_train.json'\n",
    "cfg.data.train.type='CocoDataset'\n",
    "\n",
    "cfg.data.val.img_prefix = data_images\n",
    "cfg.data.val.classes = cfg.classes\n",
    "cfg.data.val.ann_file = '/kaggle/working/new_anno/new_valid.json'\n",
    "cfg.data.val.type='CocoDataset'\n",
    "\n",
    "cfg.data.test.img_prefix = data_images\n",
    "cfg.data.test.classes = cfg.classes\n",
    "cfg.data.test.ann_file = '/kaggle/working/new_anno/new_valid.json'\n",
    "cfg.data.test.type='CocoDataset'\n",
    "\n",
    "cfg.data.samples_per_gpu = 4 # Batch size of a single GPU used in testing\n",
    "cfg.data.workers_per_gpu = 2 # Worker to pre-fetch data for each single GPU"
   ]
  },
  {
   "cell_type": "markdown",
   "id": "50aef76c",
   "metadata": {
    "papermill": {
     "duration": 0.027272,
     "end_time": "2021-07-26T13:02:21.529791",
     "exception": false,
     "start_time": "2021-07-26T13:02:21.502519",
     "status": "completed"
    },
    "tags": []
   },
   "source": [
    "<span style=\"color: #000508; font-family: Segoe UI; font-size: 1.6em; font-weight: 300;\">Setting Metric for Evaluation</span>"
   ]
  },
  {
   "cell_type": "code",
   "execution_count": 14,
   "id": "c09447bf",
   "metadata": {
    "execution": {
     "iopub.execute_input": "2021-07-26T13:02:21.588166Z",
     "iopub.status.busy": "2021-07-26T13:02:21.587440Z",
     "iopub.status.idle": "2021-07-26T13:02:21.590083Z",
     "shell.execute_reply": "2021-07-26T13:02:21.589643Z",
     "shell.execute_reply.started": "2021-07-26T08:21:07.009475Z"
    },
    "papermill": {
     "duration": 0.033296,
     "end_time": "2021-07-26T13:02:21.590185",
     "exception": false,
     "start_time": "2021-07-26T13:02:21.556889",
     "status": "completed"
    },
    "tags": []
   },
   "outputs": [],
   "source": [
    "# The config to build the evaluation hook, refer to https://github.com/open-mmlab/mmdetection/blob/master/mmdet/core/evaluation/eval_hooks.py#L7 for more details.\n",
    "cfg.evaluation.metric = 'bbox' # Metrics used during evaluation\n",
    "\n",
    "# Set the epoch intervel to perform evaluation\n",
    "cfg.evaluation.interval = 1\n",
    "\n",
    "cfg.evaluation.save_best='bbox_mAP'"
   ]
  },
  {
   "cell_type": "markdown",
   "id": "06f58ef3",
   "metadata": {
    "papermill": {
     "duration": 0.027797,
     "end_time": "2021-07-26T13:02:21.648594",
     "exception": false,
     "start_time": "2021-07-26T13:02:21.620797",
     "status": "completed"
    },
    "tags": []
   },
   "source": [
    "<span style=\"color: #000508; font-family: Segoe UI; font-size: 1.6em; font-weight: 300;\">Prepare the Pre-processing & Augmentation Pipelines</span>"
   ]
  },
  {
   "cell_type": "markdown",
   "id": "68d16274",
   "metadata": {
    "papermill": {
     "duration": 0.02786,
     "end_time": "2021-07-26T13:02:21.704453",
     "exception": false,
     "start_time": "2021-07-26T13:02:21.676593",
     "status": "completed"
    },
    "tags": []
   },
   "source": [
    "You can choose different data augmentation strategies"
   ]
  },
  {
   "cell_type": "code",
   "execution_count": 15,
   "id": "04732a0b",
   "metadata": {
    "execution": {
     "iopub.execute_input": "2021-07-26T13:02:21.764893Z",
     "iopub.status.busy": "2021-07-26T13:02:21.764098Z",
     "iopub.status.idle": "2021-07-26T13:02:21.766394Z",
     "shell.execute_reply": "2021-07-26T13:02:21.766819Z",
     "shell.execute_reply.started": "2021-07-26T08:21:07.021397Z"
    },
    "papermill": {
     "duration": 0.034211,
     "end_time": "2021-07-26T13:02:21.766963",
     "exception": false,
     "start_time": "2021-07-26T13:02:21.732752",
     "status": "completed"
    },
    "tags": []
   },
   "outputs": [],
   "source": [
    "# albu_train_transforms = [\n",
    "#     dict(type='ShiftScaleRotate', shift_limit=0.0625,\n",
    "#          scale_limit=0.15, rotate_limit=15, p=0.4),\n",
    "#     dict(type='RandomBrightnessContrast', brightness_limit=0.2,\n",
    "#          contrast_limit=0.2, p=0.5),\n",
    "#     dict(type='IAAAffine', shear=(-10.0, 10.0), p=0.4),\n",
    "#     dict(type=\"Blur\", p=1.0, blur_limit=7),\n",
    "#     dict(type='CLAHE', p=0.5),\n",
    "#     dict(type='Equalize', mode='cv', p=0.4),\n",
    "#     dict(\n",
    "#         type=\"OneOf\",\n",
    "#         transforms=[\n",
    "#             dict(type=\"GaussianBlur\", p=1.0, blur_limit=7),\n",
    "#             dict(type=\"MedianBlur\", p=1.0, blur_limit=7),\n",
    "#         ],\n",
    "#         p=0.4,\n",
    "#     ),\n",
    "#     ]\n",
    "\n",
    "# cfg.train_pipeline = [\n",
    "#     dict(type='LoadImageFromFile'),\n",
    "#     dict(type='LoadAnnotations', with_bbox=True, with_mask=True),\n",
    "#     dict(type='Resize', img_scale=(1333, 800), keep_ratio=True),\n",
    "#     dict(type='RandomFlip', flip_ratio=0.5),\n",
    "#     dict(\n",
    "#         type='Albu',\n",
    "#         transforms=albu_train_transforms,\n",
    "#         bbox_params=dict(\n",
    "#         type='BboxParams',\n",
    "#         format='pascal_voc',\n",
    "#         label_fields=['gt_labels'],\n",
    "#         min_visibility=0.0,\n",
    "#         filter_lost_elements=True),\n",
    "#         keymap=dict(img='image', gt_bboxes='bboxes'),\n",
    "#         update_pad_shape=False,\n",
    "#         skip_img_without_anno=True),\n",
    "#     dict(\n",
    "#         type='Normalize',\n",
    "#         mean=[123.675, 116.28, 103.53],\n",
    "#         std=[58.395, 57.12, 57.375],\n",
    "#         to_rgb=True),\n",
    "#     dict(type='Pad', size_divisor=32),\n",
    "#     dict(type='DefaultFormatBundle'),\n",
    "#     dict(type='Collect', keys=['img', 'gt_bboxes', 'gt_labels'])\n",
    "# ]\n"
   ]
  },
  {
   "cell_type": "markdown",
   "id": "c6906471",
   "metadata": {
    "papermill": {
     "duration": 0.02691,
     "end_time": "2021-07-26T13:02:21.821118",
     "exception": false,
     "start_time": "2021-07-26T13:02:21.794208",
     "status": "completed"
    },
    "tags": []
   },
   "source": [
    "<span style=\"color: #000508; font-family: Segoe UI; font-size: 1.6em; font-weight: 300;\">Weights & Biases Integration for Experiment Tracking and Logging</span>"
   ]
  },
  {
   "cell_type": "code",
   "execution_count": 16,
   "id": "e09232c5",
   "metadata": {
    "execution": {
     "iopub.execute_input": "2021-07-26T13:02:21.880506Z",
     "iopub.status.busy": "2021-07-26T13:02:21.879787Z",
     "iopub.status.idle": "2021-07-26T13:02:21.882651Z",
     "shell.execute_reply": "2021-07-26T13:02:21.882230Z",
     "shell.execute_reply.started": "2021-07-26T08:21:07.030081Z"
    },
    "papermill": {
     "duration": 0.034201,
     "end_time": "2021-07-26T13:02:21.882753",
     "exception": false,
     "start_time": "2021-07-26T13:02:21.848552",
     "status": "completed"
    },
    "tags": []
   },
   "outputs": [],
   "source": [
    "cfg.log_config.hooks = [dict(type='TextLoggerHook'),\n",
    "                        dict(type='WandbLoggerHook',\n",
    "                             init_kwargs=dict(project=wnb_project_name,\n",
    "                                              name=f'exp-{model_name}-job{job}',\n",
    "                                              entity=wnb_username))\n",
    "                       ]"
   ]
  },
  {
   "cell_type": "markdown",
   "id": "4e0de966",
   "metadata": {
    "papermill": {
     "duration": 0.028636,
     "end_time": "2021-07-26T13:02:21.938529",
     "exception": false,
     "start_time": "2021-07-26T13:02:21.909893",
     "status": "completed"
    },
    "tags": []
   },
   "source": [
    "<span style=\"color: #000508; font-family: Segoe UI; font-size: 1.6em; font-weight: 300;\">Save Config File</span>"
   ]
  },
  {
   "cell_type": "code",
   "execution_count": 17,
   "id": "f2486530",
   "metadata": {
    "execution": {
     "iopub.execute_input": "2021-07-26T13:02:22.017684Z",
     "iopub.status.busy": "2021-07-26T13:02:22.012450Z",
     "iopub.status.idle": "2021-07-26T13:02:23.221971Z",
     "shell.execute_reply": "2021-07-26T13:02:23.222568Z",
     "shell.execute_reply.started": "2021-07-26T08:21:07.040953Z"
    },
    "papermill": {
     "duration": 1.257066,
     "end_time": "2021-07-26T13:02:23.222728",
     "exception": false,
     "start_time": "2021-07-26T13:02:21.965662",
     "status": "completed"
    },
    "tags": []
   },
   "outputs": [
    {
     "name": "stdout",
     "output_type": "stream",
     "text": [
      "/kaggle/working/job3_cascade_rcnn_r50_fpn_1x/job3_cascade_rcnn_r50_fpn_1x_coco.py\n",
      "Config:\n",
      "model = dict(\n",
      "    type='CascadeRCNN',\n",
      "    backbone=dict(\n",
      "        type='ResNet',\n",
      "        depth=50,\n",
      "        num_stages=4,\n",
      "        out_indices=(0, 1, 2, 3),\n",
      "        frozen_stages=1,\n",
      "        norm_cfg=dict(type='BN', requires_grad=True),\n",
      "        norm_eval=True,\n",
      "        style='pytorch',\n",
      "        init_cfg=dict(type='Pretrained', checkpoint='torchvision://resnet50')),\n",
      "    neck=dict(\n",
      "        type='FPN',\n",
      "        in_channels=[256, 512, 1024, 2048],\n",
      "        out_channels=256,\n",
      "        num_outs=5),\n",
      "    rpn_head=dict(\n",
      "        type='RPNHead',\n",
      "        in_channels=256,\n",
      "        feat_channels=256,\n",
      "        anchor_generator=dict(\n",
      "            type='AnchorGenerator',\n",
      "            scales=[8],\n",
      "            ratios=[0.5, 1.0, 2.0],\n",
      "            strides=[4, 8, 16, 32, 64]),\n",
      "        bbox_coder=dict(\n",
      "            type='DeltaXYWHBBoxCoder',\n",
      "            target_means=[0.0, 0.0, 0.0, 0.0],\n",
      "            target_stds=[1.0, 1.0, 1.0, 1.0]),\n",
      "        loss_cls=dict(\n",
      "            type='CrossEntropyLoss', use_sigmoid=True, loss_weight=1.0),\n",
      "        loss_bbox=dict(\n",
      "            type='SmoothL1Loss', beta=0.1111111111111111, loss_weight=1.0)),\n",
      "    roi_head=dict(\n",
      "        type='CascadeRoIHead',\n",
      "        num_stages=3,\n",
      "        stage_loss_weights=[1, 0.5, 0.25],\n",
      "        bbox_roi_extractor=dict(\n",
      "            type='SingleRoIExtractor',\n",
      "            roi_layer=dict(type='RoIAlign', output_size=7, sampling_ratio=0),\n",
      "            out_channels=256,\n",
      "            featmap_strides=[4, 8, 16, 32]),\n",
      "        bbox_head=[\n",
      "            dict(\n",
      "                type='Shared2FCBBoxHead',\n",
      "                in_channels=256,\n",
      "                fc_out_channels=1024,\n",
      "                roi_feat_size=7,\n",
      "                num_classes=5,\n",
      "                bbox_coder=dict(\n",
      "                    type='DeltaXYWHBBoxCoder',\n",
      "                    target_means=[0.0, 0.0, 0.0, 0.0],\n",
      "                    target_stds=[0.1, 0.1, 0.2, 0.2]),\n",
      "                reg_class_agnostic=True,\n",
      "                loss_cls=dict(\n",
      "                    type='CrossEntropyLoss',\n",
      "                    use_sigmoid=False,\n",
      "                    loss_weight=1.0),\n",
      "                loss_bbox=dict(type='SmoothL1Loss', beta=1.0,\n",
      "                               loss_weight=1.0)),\n",
      "            dict(\n",
      "                type='Shared2FCBBoxHead',\n",
      "                in_channels=256,\n",
      "                fc_out_channels=1024,\n",
      "                roi_feat_size=7,\n",
      "                num_classes=5,\n",
      "                bbox_coder=dict(\n",
      "                    type='DeltaXYWHBBoxCoder',\n",
      "                    target_means=[0.0, 0.0, 0.0, 0.0],\n",
      "                    target_stds=[0.05, 0.05, 0.1, 0.1]),\n",
      "                reg_class_agnostic=True,\n",
      "                loss_cls=dict(\n",
      "                    type='CrossEntropyLoss',\n",
      "                    use_sigmoid=False,\n",
      "                    loss_weight=1.0),\n",
      "                loss_bbox=dict(type='SmoothL1Loss', beta=1.0,\n",
      "                               loss_weight=1.0)),\n",
      "            dict(\n",
      "                type='Shared2FCBBoxHead',\n",
      "                in_channels=256,\n",
      "                fc_out_channels=1024,\n",
      "                roi_feat_size=7,\n",
      "                num_classes=5,\n",
      "                bbox_coder=dict(\n",
      "                    type='DeltaXYWHBBoxCoder',\n",
      "                    target_means=[0.0, 0.0, 0.0, 0.0],\n",
      "                    target_stds=[0.033, 0.033, 0.067, 0.067]),\n",
      "                reg_class_agnostic=True,\n",
      "                loss_cls=dict(\n",
      "                    type='CrossEntropyLoss',\n",
      "                    use_sigmoid=False,\n",
      "                    loss_weight=1.0),\n",
      "                loss_bbox=dict(type='SmoothL1Loss', beta=1.0, loss_weight=1.0))\n",
      "        ]),\n",
      "    train_cfg=dict(\n",
      "        rpn=dict(\n",
      "            assigner=dict(\n",
      "                type='MaxIoUAssigner',\n",
      "                pos_iou_thr=0.7,\n",
      "                neg_iou_thr=0.3,\n",
      "                min_pos_iou=0.3,\n",
      "                match_low_quality=True,\n",
      "                ignore_iof_thr=-1),\n",
      "            sampler=dict(\n",
      "                type='RandomSampler',\n",
      "                num=256,\n",
      "                pos_fraction=0.5,\n",
      "                neg_pos_ub=-1,\n",
      "                add_gt_as_proposals=False),\n",
      "            allowed_border=0,\n",
      "            pos_weight=-1,\n",
      "            debug=False),\n",
      "        rpn_proposal=dict(\n",
      "            nms_pre=2000,\n",
      "            max_per_img=2000,\n",
      "            nms=dict(type='nms', iou_threshold=0.7),\n",
      "            min_bbox_size=0),\n",
      "        rcnn=[\n",
      "            dict(\n",
      "                assigner=dict(\n",
      "                    type='MaxIoUAssigner',\n",
      "                    pos_iou_thr=0.5,\n",
      "                    neg_iou_thr=0.5,\n",
      "                    min_pos_iou=0.5,\n",
      "                    match_low_quality=False,\n",
      "                    ignore_iof_thr=-1),\n",
      "                sampler=dict(\n",
      "                    type='RandomSampler',\n",
      "                    num=512,\n",
      "                    pos_fraction=0.25,\n",
      "                    neg_pos_ub=-1,\n",
      "                    add_gt_as_proposals=True),\n",
      "                pos_weight=-1,\n",
      "                debug=False),\n",
      "            dict(\n",
      "                assigner=dict(\n",
      "                    type='MaxIoUAssigner',\n",
      "                    pos_iou_thr=0.6,\n",
      "                    neg_iou_thr=0.6,\n",
      "                    min_pos_iou=0.6,\n",
      "                    match_low_quality=False,\n",
      "                    ignore_iof_thr=-1),\n",
      "                sampler=dict(\n",
      "                    type='RandomSampler',\n",
      "                    num=512,\n",
      "                    pos_fraction=0.25,\n",
      "                    neg_pos_ub=-1,\n",
      "                    add_gt_as_proposals=True),\n",
      "                pos_weight=-1,\n",
      "                debug=False),\n",
      "            dict(\n",
      "                assigner=dict(\n",
      "                    type='MaxIoUAssigner',\n",
      "                    pos_iou_thr=0.7,\n",
      "                    neg_iou_thr=0.7,\n",
      "                    min_pos_iou=0.7,\n",
      "                    match_low_quality=False,\n",
      "                    ignore_iof_thr=-1),\n",
      "                sampler=dict(\n",
      "                    type='RandomSampler',\n",
      "                    num=512,\n",
      "                    pos_fraction=0.25,\n",
      "                    neg_pos_ub=-1,\n",
      "                    add_gt_as_proposals=True),\n",
      "                pos_weight=-1,\n",
      "                debug=False)\n",
      "        ]),\n",
      "    test_cfg=dict(\n",
      "        rpn=dict(\n",
      "            nms_pre=1000,\n",
      "            max_per_img=1000,\n",
      "            nms=dict(type='nms', iou_threshold=0.7),\n",
      "            min_bbox_size=0),\n",
      "        rcnn=dict(\n",
      "            score_thr=0.05,\n",
      "            nms=dict(type='nms', iou_threshold=0.5),\n",
      "            max_per_img=100)))\n",
      "dataset_type = 'CocoDataset'\n",
      "data_root = 'data/coco/'\n",
      "img_norm_cfg = dict(\n",
      "    mean=[123.675, 116.28, 103.53], std=[58.395, 57.12, 57.375], to_rgb=True)\n",
      "train_pipeline = [\n",
      "    dict(type='LoadImageFromFile'),\n",
      "    dict(type='LoadAnnotations', with_bbox=True),\n",
      "    dict(type='Resize', img_scale=(1333, 800), keep_ratio=True),\n",
      "    dict(type='RandomFlip', flip_ratio=0.5),\n",
      "    dict(\n",
      "        type='Normalize',\n",
      "        mean=[123.675, 116.28, 103.53],\n",
      "        std=[58.395, 57.12, 57.375],\n",
      "        to_rgb=True),\n",
      "    dict(type='Pad', size_divisor=32),\n",
      "    dict(type='DefaultFormatBundle'),\n",
      "    dict(type='Collect', keys=['img', 'gt_bboxes', 'gt_labels'])\n",
      "]\n",
      "test_pipeline = [\n",
      "    dict(type='LoadImageFromFile'),\n",
      "    dict(\n",
      "        type='MultiScaleFlipAug',\n",
      "        img_scale=(1333, 800),\n",
      "        flip=False,\n",
      "        transforms=[\n",
      "            dict(type='Resize', keep_ratio=True),\n",
      "            dict(type='RandomFlip'),\n",
      "            dict(\n",
      "                type='Normalize',\n",
      "                mean=[123.675, 116.28, 103.53],\n",
      "                std=[58.395, 57.12, 57.375],\n",
      "                to_rgb=True),\n",
      "            dict(type='Pad', size_divisor=32),\n",
      "            dict(type='ImageToTensor', keys=['img']),\n",
      "            dict(type='Collect', keys=['img'])\n",
      "        ])\n",
      "]\n",
      "data = dict(\n",
      "    samples_per_gpu=4,\n",
      "    workers_per_gpu=2,\n",
      "    train=dict(\n",
      "        type='CocoDataset',\n",
      "        ann_file='/kaggle/working/new_anno/new_train.json',\n",
      "        img_prefix='/kaggle/input/cowboyoutfits/images',\n",
      "        pipeline=[\n",
      "            dict(type='LoadImageFromFile'),\n",
      "            dict(type='LoadAnnotations', with_bbox=True),\n",
      "            dict(type='Resize', img_scale=(1333, 800), keep_ratio=True),\n",
      "            dict(type='RandomFlip', flip_ratio=0.5),\n",
      "            dict(\n",
      "                type='Normalize',\n",
      "                mean=[123.675, 116.28, 103.53],\n",
      "                std=[58.395, 57.12, 57.375],\n",
      "                to_rgb=True),\n",
      "            dict(type='Pad', size_divisor=32),\n",
      "            dict(type='DefaultFormatBundle'),\n",
      "            dict(type='Collect', keys=['img', 'gt_bboxes', 'gt_labels'])\n",
      "        ],\n",
      "        classes=('belt', 'sunglasses', 'boot', 'cowboy_hat', 'jacket')),\n",
      "    val=dict(\n",
      "        type='CocoDataset',\n",
      "        ann_file='/kaggle/working/new_anno/new_valid.json',\n",
      "        img_prefix='/kaggle/input/cowboyoutfits/images',\n",
      "        pipeline=[\n",
      "            dict(type='LoadImageFromFile'),\n",
      "            dict(\n",
      "                type='MultiScaleFlipAug',\n",
      "                img_scale=(1333, 800),\n",
      "                flip=False,\n",
      "                transforms=[\n",
      "                    dict(type='Resize', keep_ratio=True),\n",
      "                    dict(type='RandomFlip'),\n",
      "                    dict(\n",
      "                        type='Normalize',\n",
      "                        mean=[123.675, 116.28, 103.53],\n",
      "                        std=[58.395, 57.12, 57.375],\n",
      "                        to_rgb=True),\n",
      "                    dict(type='Pad', size_divisor=32),\n",
      "                    dict(type='ImageToTensor', keys=['img']),\n",
      "                    dict(type='Collect', keys=['img'])\n",
      "                ])\n",
      "        ],\n",
      "        classes=('belt', 'sunglasses', 'boot', 'cowboy_hat', 'jacket')),\n",
      "    test=dict(\n",
      "        type='CocoDataset',\n",
      "        ann_file='/kaggle/working/new_anno/new_valid.json',\n",
      "        img_prefix='/kaggle/input/cowboyoutfits/images',\n",
      "        pipeline=[\n",
      "            dict(type='LoadImageFromFile'),\n",
      "            dict(\n",
      "                type='MultiScaleFlipAug',\n",
      "                img_scale=(1333, 800),\n",
      "                flip=False,\n",
      "                transforms=[\n",
      "                    dict(type='Resize', keep_ratio=True),\n",
      "                    dict(type='RandomFlip'),\n",
      "                    dict(\n",
      "                        type='Normalize',\n",
      "                        mean=[123.675, 116.28, 103.53],\n",
      "                        std=[58.395, 57.12, 57.375],\n",
      "                        to_rgb=True),\n",
      "                    dict(type='Pad', size_divisor=32),\n",
      "                    dict(type='ImageToTensor', keys=['img']),\n",
      "                    dict(type='Collect', keys=['img'])\n",
      "                ])\n",
      "        ],\n",
      "        classes=('belt', 'sunglasses', 'boot', 'cowboy_hat', 'jacket')))\n",
      "evaluation = dict(interval=1, metric='bbox', save_best='bbox_mAP')\n",
      "optimizer = dict(type='SGD', lr=0.0025, momentum=0.9, weight_decay=0.0001)\n",
      "optimizer_config = dict(grad_clip=None)\n",
      "lr_config = dict(\n",
      "    policy='CosineAnnealing',\n",
      "    by_epoch=False,\n",
      "    warmup='linear',\n",
      "    warmup_iters=500,\n",
      "    warmup_ratio=0.001,\n",
      "    min_lr=1e-07)\n",
      "runner = dict(type='EpochBasedRunner', max_epochs=4)\n",
      "checkpoint_config = dict(interval=1)\n",
      "log_config = dict(\n",
      "    interval=40,\n",
      "    hooks=[\n",
      "        dict(type='TextLoggerHook'),\n",
      "        dict(\n",
      "            type='WandbLoggerHook',\n",
      "            init_kwargs=dict(\n",
      "                project='kaggle_cowboy_outfits',\n",
      "                name='exp-cascade_rcnn_r50_fpn_1x-job3',\n",
      "                entity='nekokiku'))\n",
      "    ])\n",
      "custom_hooks = [dict(type='NumClassCheckHook')]\n",
      "dist_params = dict(backend='nccl')\n",
      "log_level = 'INFO'\n",
      "load_from = None\n",
      "resume_from = None\n",
      "workflow = [('train', 1)]\n",
      "work_dir = '/kaggle/working/job3_cascade_rcnn_r50_fpn_1x'\n",
      "seed = 123\n",
      "gpu_ids = [0]\n",
      "total_epochs = 4\n",
      "classes = ('belt', 'sunglasses', 'boot', 'cowboy_hat', 'jacket')\n",
      "\n"
     ]
    }
   ],
   "source": [
    "cfg_path = f'{job_folder}/job{job}_{Path(baseline_cfg_path).name}'\n",
    "print(cfg_path)\n",
    "\n",
    "# Save config file for inference later\n",
    "cfg.dump(cfg_path)\n",
    "print(f'Config:\\n{cfg.pretty_text}')"
   ]
  },
  {
   "cell_type": "markdown",
   "id": "319dfb52",
   "metadata": {
    "papermill": {
     "duration": 0.028032,
     "end_time": "2021-07-26T13:02:23.279411",
     "exception": false,
     "start_time": "2021-07-26T13:02:23.251379",
     "status": "completed"
    },
    "tags": []
   },
   "source": [
    "<span style=\"color: #E45D00; font-family: Segoe UI; font-size: 1.9em; font-weight: 300;\">🚀 Build Dataset and Start Training</span>"
   ]
  },
  {
   "cell_type": "code",
   "execution_count": 18,
   "id": "c9012607",
   "metadata": {
    "execution": {
     "iopub.execute_input": "2021-07-26T13:02:23.340501Z",
     "iopub.status.busy": "2021-07-26T13:02:23.339914Z",
     "iopub.status.idle": "2021-07-26T13:02:29.276661Z",
     "shell.execute_reply": "2021-07-26T13:02:29.277796Z",
     "shell.execute_reply.started": "2021-07-26T08:21:48.192588Z"
    },
    "papermill": {
     "duration": 5.970483,
     "end_time": "2021-07-26T13:02:29.278031",
     "exception": false,
     "start_time": "2021-07-26T13:02:23.307548",
     "status": "completed"
    },
    "tags": []
   },
   "outputs": [
    {
     "name": "stderr",
     "output_type": "stream",
     "text": [
      "./mmdetection/mmdet/core/anchor/builder.py:16: UserWarning: ``build_anchor_generator`` would be deprecated soon, please use ``build_prior_generator`` \n",
      "  '``build_anchor_generator`` would be deprecated soon, please use '\n",
      "2021-07-26 13:02:23,989 - mmcv - INFO - load model from: torchvision://resnet50\n",
      "2021-07-26 13:02:23,990 - mmcv - INFO - Use load_from_torchvision loader\n",
      "Downloading: \"https://download.pytorch.org/models/resnet50-19c8e357.pth\" to /root/.cache/torch/hub/checkpoints/resnet50-19c8e357.pth\n"
     ]
    },
    {
     "data": {
      "application/vnd.jupyter.widget-view+json": {
       "model_id": "112c23724bfd45d0b3d8cd7f847aa4d0",
       "version_major": 2,
       "version_minor": 0
      },
      "text/plain": [
       "  0%|          | 0.00/97.8M [00:00<?, ?B/s]"
      ]
     },
     "metadata": {},
     "output_type": "display_data"
    },
    {
     "name": "stderr",
     "output_type": "stream",
     "text": [
      "2021-07-26 13:02:28,131 - mmcv - WARNING - The model and loaded state dict do not match exactly\n",
      "\n",
      "unexpected key in source state_dict: fc.weight, fc.bias\n",
      "\n"
     ]
    }
   ],
   "source": [
    "model = build_detector(cfg.model,\n",
    "                       train_cfg=cfg.get('train_cfg'),\n",
    "                       test_cfg=cfg.get('test_cfg'))\n",
    "model.init_weights()"
   ]
  },
  {
   "cell_type": "code",
   "execution_count": 19,
   "id": "db1f9667",
   "metadata": {
    "execution": {
     "iopub.execute_input": "2021-07-26T13:02:29.619471Z",
     "iopub.status.busy": "2021-07-26T13:02:29.605892Z",
     "iopub.status.idle": "2021-07-26T13:02:29.624627Z",
     "shell.execute_reply": "2021-07-26T13:02:29.623849Z",
     "shell.execute_reply.started": "2021-07-26T08:21:53.941157Z"
    },
    "papermill": {
     "duration": 0.296433,
     "end_time": "2021-07-26T13:02:29.624753",
     "exception": false,
     "start_time": "2021-07-26T13:02:29.328320",
     "status": "completed"
    },
    "tags": []
   },
   "outputs": [
    {
     "name": "stdout",
     "output_type": "stream",
     "text": [
      "loading annotations into memory...\n",
      "Done (t=0.22s)\n",
      "creating index...\n",
      "index created!\n"
     ]
    }
   ],
   "source": [
    "datasets = [build_dataset(cfg.data.train)]"
   ]
  },
  {
   "cell_type": "code",
   "execution_count": 20,
   "id": "ad031a07",
   "metadata": {
    "execution": {
     "iopub.execute_input": "2021-07-26T13:02:29.691727Z",
     "iopub.status.busy": "2021-07-26T13:02:29.691105Z",
     "iopub.status.idle": "2021-07-26T13:55:53.393010Z",
     "shell.execute_reply": "2021-07-26T13:55:53.392485Z",
     "shell.execute_reply.started": "2021-07-26T08:21:54.157561Z"
    },
    "papermill": {
     "duration": 3203.738051,
     "end_time": "2021-07-26T13:55:53.393161",
     "exception": false,
     "start_time": "2021-07-26T13:02:29.655110",
     "status": "completed"
    },
    "tags": []
   },
   "outputs": [
    {
     "name": "stderr",
     "output_type": "stream",
     "text": [
      "2021-07-26 13:02:33,977 - mmdet - INFO - Start running, host: root@643f0f276b5a, work_dir: /kaggle/working/job3_cascade_rcnn_r50_fpn_1x\n",
      "2021-07-26 13:02:33,979 - mmdet - INFO - Hooks will be executed in the following order:\n",
      "before_run:\n",
      "(VERY_HIGH   ) CosineAnnealingLrUpdaterHook       \n",
      "(NORMAL      ) CheckpointHook                     \n",
      "(NORMAL      ) EvalHook                           \n",
      "(VERY_LOW    ) TextLoggerHook                     \n",
      "(VERY_LOW    ) WandbLoggerHook                    \n",
      " -------------------- \n",
      "before_train_epoch:\n",
      "(VERY_HIGH   ) CosineAnnealingLrUpdaterHook       \n",
      "(NORMAL      ) EvalHook                           \n",
      "(NORMAL      ) NumClassCheckHook                  \n",
      "(LOW         ) IterTimerHook                      \n",
      "(VERY_LOW    ) TextLoggerHook                     \n",
      "(VERY_LOW    ) WandbLoggerHook                    \n",
      " -------------------- \n",
      "before_train_iter:\n",
      "(VERY_HIGH   ) CosineAnnealingLrUpdaterHook       \n",
      "(NORMAL      ) EvalHook                           \n",
      "(LOW         ) IterTimerHook                      \n",
      " -------------------- \n",
      "after_train_iter:\n",
      "(ABOVE_NORMAL) OptimizerHook                      \n",
      "(NORMAL      ) CheckpointHook                     \n",
      "(NORMAL      ) EvalHook                           \n",
      "(LOW         ) IterTimerHook                      \n",
      "(VERY_LOW    ) TextLoggerHook                     \n",
      "(VERY_LOW    ) WandbLoggerHook                    \n",
      " -------------------- \n",
      "after_train_epoch:\n",
      "(NORMAL      ) CheckpointHook                     \n",
      "(NORMAL      ) EvalHook                           \n",
      "(VERY_LOW    ) TextLoggerHook                     \n",
      "(VERY_LOW    ) WandbLoggerHook                    \n",
      " -------------------- \n",
      "before_val_epoch:\n",
      "(NORMAL      ) NumClassCheckHook                  \n",
      "(LOW         ) IterTimerHook                      \n",
      "(VERY_LOW    ) TextLoggerHook                     \n",
      "(VERY_LOW    ) WandbLoggerHook                    \n",
      " -------------------- \n",
      "before_val_iter:\n",
      "(LOW         ) IterTimerHook                      \n",
      " -------------------- \n",
      "after_val_iter:\n",
      "(LOW         ) IterTimerHook                      \n",
      " -------------------- \n",
      "after_val_epoch:\n",
      "(VERY_LOW    ) TextLoggerHook                     \n",
      "(VERY_LOW    ) WandbLoggerHook                    \n",
      " -------------------- \n",
      "after_run:\n",
      "(VERY_LOW    ) WandbLoggerHook                    \n",
      " -------------------- \n",
      "2021-07-26 13:02:33,980 - mmdet - INFO - workflow: [('train', 1)], max: 4 epochs\n",
      "/opt/conda/lib/python3.7/site-packages/mmcv/runner/hooks/evaluation.py:190: UserWarning: runner.meta is None. Creating an empty one.\n",
      "  warnings.warn('runner.meta is None. Creating an empty one.')\n",
      "\u001b[34m\u001b[1mwandb\u001b[0m: Currently logged in as: \u001b[33mnekokiku\u001b[0m (use `wandb login --relogin` to force relogin)\n"
     ]
    },
    {
     "name": "stdout",
     "output_type": "stream",
     "text": [
      "loading annotations into memory...\n",
      "Done (t=0.01s)\n",
      "creating index...\n",
      "index created!\n"
     ]
    },
    {
     "data": {
      "text/html": [
       "\n",
       "                Tracking run with wandb version 0.11.0<br/>\n",
       "                Syncing run <strong style=\"color:#cdcd00\">exp-cascade_rcnn_r50_fpn_1x-job3</strong> to <a href=\"https://wandb.ai\" target=\"_blank\">Weights & Biases</a> <a href=\"https://docs.wandb.com/integrations/jupyter.html\" target=\"_blank\">(Documentation)</a>.<br/>\n",
       "                Project page: <a href=\"https://wandb.ai/nekokiku/kaggle_cowboy_outfits\" target=\"_blank\">https://wandb.ai/nekokiku/kaggle_cowboy_outfits</a><br/>\n",
       "                Run page: <a href=\"https://wandb.ai/nekokiku/kaggle_cowboy_outfits/runs/1qzb1cto\" target=\"_blank\">https://wandb.ai/nekokiku/kaggle_cowboy_outfits/runs/1qzb1cto</a><br/>\n",
       "                Run data is saved locally in <code>/kaggle/working/wandb/run-20210726_130234-1qzb1cto</code><br/><br/>\n",
       "            "
      ],
      "text/plain": [
       "<IPython.core.display.HTML object>"
      ]
     },
     "metadata": {},
     "output_type": "display_data"
    },
    {
     "name": "stderr",
     "output_type": "stream",
     "text": [
      "./mmdetection/mmdet/core/anchor/anchor_generator.py:323: UserWarning: ``grid_anchors`` would be deprecated soon. Please use ``grid_priors`` \n",
      "  warnings.warn('``grid_anchors`` would be deprecated soon. '\n",
      "./mmdetection/mmdet/core/anchor/anchor_generator.py:360: UserWarning: ``single_level_grid_anchors`` would be deprecated soon. Please use ``single_level_grid_priors`` \n",
      "  '``single_level_grid_anchors`` would be deprecated soon. '\n",
      "2021-07-26 13:03:29,031 - mmdet - INFO - Epoch [1][40/609]\tlr: 1.972e-04, eta: 0:48:25, time: 1.212, data_time: 0.079, memory: 6827, loss_rpn_cls: 0.6796, loss_rpn_bbox: 0.0152, s0.loss_cls: 0.7419, s0.acc: 76.6357, s0.loss_bbox: 0.0253, s1.loss_cls: 0.4360, s1.acc: 69.4519, s1.loss_bbox: 0.0085, s2.loss_cls: 0.2181, s2.acc: 69.6790, s2.loss_bbox: 0.0021, loss: 2.1267\n",
      "2021-07-26 13:04:16,147 - mmdet - INFO - Epoch [1][80/609]\tlr: 3.961e-04, eta: 0:46:56, time: 1.178, data_time: 0.018, memory: 6827, loss_rpn_cls: 0.3975, loss_rpn_bbox: 0.0140, s0.loss_cls: 0.1306, s0.acc: 98.4607, s0.loss_bbox: 0.0484, s1.loss_cls: 0.0430, s1.acc: 99.2395, s1.loss_bbox: 0.0198, s2.loss_cls: 0.0176, s2.acc: 99.5459, s2.loss_bbox: 0.0042, loss: 0.6750\n",
      "2021-07-26 13:05:02,557 - mmdet - INFO - Epoch [1][120/609]\tlr: 5.934e-04, eta: 0:45:41, time: 1.160, data_time: 0.017, memory: 6827, loss_rpn_cls: 0.0871, loss_rpn_bbox: 0.0127, s0.loss_cls: 0.1576, s0.acc: 97.1985, s0.loss_bbox: 0.0743, s1.loss_cls: 0.0509, s1.acc: 98.7012, s1.loss_bbox: 0.0259, s2.loss_cls: 0.0144, s2.acc: 99.3555, s2.loss_bbox: 0.0060, loss: 0.4289\n",
      "2021-07-26 13:05:49,174 - mmdet - INFO - Epoch [1][160/609]\tlr: 7.884e-04, eta: 0:44:43, time: 1.165, data_time: 0.017, memory: 6828, loss_rpn_cls: 0.0639, loss_rpn_bbox: 0.0147, s0.loss_cls: 0.1293, s0.acc: 97.0190, s0.loss_bbox: 0.0741, s1.loss_cls: 0.0418, s1.acc: 98.5583, s1.loss_bbox: 0.0260, s2.loss_cls: 0.0134, s2.acc: 99.2603, s2.loss_bbox: 0.0056, loss: 0.3687\n",
      "2021-07-26 13:06:36,009 - mmdet - INFO - Epoch [1][200/609]\tlr: 9.802e-04, eta: 0:43:52, time: 1.171, data_time: 0.017, memory: 6828, loss_rpn_cls: 0.0475, loss_rpn_bbox: 0.0109, s0.loss_cls: 0.1165, s0.acc: 96.9604, s0.loss_bbox: 0.0733, s1.loss_cls: 0.0427, s1.acc: 98.1836, s1.loss_bbox: 0.0336, s2.loss_cls: 0.0130, s2.acc: 99.1260, s2.loss_bbox: 0.0070, loss: 0.3444\n",
      "2021-07-26 13:07:22,750 - mmdet - INFO - Epoch [1][240/609]\tlr: 1.168e-03, eta: 0:43:02, time: 1.169, data_time: 0.017, memory: 6828, loss_rpn_cls: 0.0529, loss_rpn_bbox: 0.0135, s0.loss_cls: 0.1165, s0.acc: 97.2461, s0.loss_bbox: 0.0656, s1.loss_cls: 0.0406, s1.acc: 98.2007, s1.loss_bbox: 0.0320, s2.loss_cls: 0.0131, s2.acc: 99.1016, s2.loss_bbox: 0.0069, loss: 0.3410\n",
      "2021-07-26 13:08:08,785 - mmdet - INFO - Epoch [1][280/609]\tlr: 1.351e-03, eta: 0:42:07, time: 1.151, data_time: 0.017, memory: 6828, loss_rpn_cls: 0.0459, loss_rpn_bbox: 0.0134, s0.loss_cls: 0.0902, s0.acc: 97.2791, s0.loss_bbox: 0.0662, s1.loss_cls: 0.0368, s1.acc: 97.8894, s1.loss_bbox: 0.0386, s2.loss_cls: 0.0131, s2.acc: 98.9185, s2.loss_bbox: 0.0093, loss: 0.3135\n",
      "2021-07-26 13:08:55,096 - mmdet - INFO - Epoch [1][320/609]\tlr: 1.529e-03, eta: 0:41:16, time: 1.157, data_time: 0.016, memory: 6828, loss_rpn_cls: 0.0432, loss_rpn_bbox: 0.0118, s0.loss_cls: 0.0954, s0.acc: 97.1082, s0.loss_bbox: 0.0657, s1.loss_cls: 0.0408, s1.acc: 97.7332, s1.loss_bbox: 0.0424, s2.loss_cls: 0.0136, s2.acc: 98.8770, s2.loss_bbox: 0.0100, loss: 0.3228\n",
      "2021-07-26 13:09:41,150 - mmdet - INFO - Epoch [1][360/609]\tlr: 1.701e-03, eta: 0:40:25, time: 1.152, data_time: 0.017, memory: 6828, loss_rpn_cls: 0.0496, loss_rpn_bbox: 0.0124, s0.loss_cls: 0.1059, s0.acc: 97.1704, s0.loss_bbox: 0.0667, s1.loss_cls: 0.0433, s1.acc: 97.6050, s1.loss_bbox: 0.0431, s2.loss_cls: 0.0152, s2.acc: 98.7793, s2.loss_bbox: 0.0104, loss: 0.3467\n",
      "2021-07-26 13:10:27,082 - mmdet - INFO - Epoch [1][400/609]\tlr: 1.866e-03, eta: 0:39:34, time: 1.148, data_time: 0.017, memory: 6828, loss_rpn_cls: 0.0456, loss_rpn_bbox: 0.0120, s0.loss_cls: 0.0979, s0.acc: 97.2144, s0.loss_bbox: 0.0614, s1.loss_cls: 0.0413, s1.acc: 97.5244, s1.loss_bbox: 0.0437, s2.loss_cls: 0.0157, s2.acc: 98.5950, s2.loss_bbox: 0.0123, loss: 0.3300\n",
      "2021-07-26 13:11:13,040 - mmdet - INFO - Epoch [1][440/609]\tlr: 2.024e-03, eta: 0:38:45, time: 1.149, data_time: 0.018, memory: 6828, loss_rpn_cls: 0.0538, loss_rpn_bbox: 0.0185, s0.loss_cls: 0.0951, s0.acc: 97.1948, s0.loss_bbox: 0.0658, s1.loss_cls: 0.0446, s1.acc: 97.2998, s1.loss_bbox: 0.0482, s2.loss_cls: 0.0171, s2.acc: 98.2837, s2.loss_bbox: 0.0157, loss: 0.3589\n",
      "2021-07-26 13:11:59,348 - mmdet - INFO - Epoch [1][480/609]\tlr: 2.174e-03, eta: 0:37:57, time: 1.157, data_time: 0.017, memory: 6828, loss_rpn_cls: 0.0363, loss_rpn_bbox: 0.0115, s0.loss_cls: 0.0990, s0.acc: 97.0374, s0.loss_bbox: 0.0686, s1.loss_cls: 0.0484, s1.acc: 97.0630, s1.loss_bbox: 0.0486, s2.loss_cls: 0.0181, s2.acc: 98.1555, s2.loss_bbox: 0.0155, loss: 0.3460\n",
      "2021-07-26 13:12:45,397 - mmdet - INFO - Epoch [1][520/609]\tlr: 2.230e-03, eta: 0:37:08, time: 1.151, data_time: 0.016, memory: 6828, loss_rpn_cls: 0.0498, loss_rpn_bbox: 0.0135, s0.loss_cls: 0.1158, s0.acc: 97.0251, s0.loss_bbox: 0.0636, s1.loss_cls: 0.0494, s1.acc: 97.2839, s1.loss_bbox: 0.0500, s2.loss_cls: 0.0194, s2.acc: 97.9810, s2.loss_bbox: 0.0178, loss: 0.3793\n",
      "2021-07-26 13:13:31,825 - mmdet - INFO - Epoch [1][560/609]\tlr: 2.189e-03, eta: 0:36:21, time: 1.161, data_time: 0.017, memory: 6828, loss_rpn_cls: 0.0339, loss_rpn_bbox: 0.0123, s0.loss_cls: 0.0927, s0.acc: 97.2192, s0.loss_bbox: 0.0637, s1.loss_cls: 0.0447, s1.acc: 97.1021, s1.loss_bbox: 0.0543, s2.loss_cls: 0.0191, s2.acc: 97.6880, s2.loss_bbox: 0.0213, loss: 0.3419\n",
      "2021-07-26 13:14:18,389 - mmdet - INFO - Epoch [1][600/609]\tlr: 2.145e-03, eta: 0:35:35, time: 1.164, data_time: 0.017, memory: 6828, loss_rpn_cls: 0.0299, loss_rpn_bbox: 0.0113, s0.loss_cls: 0.0890, s0.acc: 97.0679, s0.loss_bbox: 0.0642, s1.loss_cls: 0.0438, s1.acc: 97.0349, s1.loss_bbox: 0.0610, s2.loss_cls: 0.0193, s2.acc: 97.5720, s2.loss_bbox: 0.0239, loss: 0.3425\n",
      "2021-07-26 13:14:28,677 - mmdet - INFO - Saving checkpoint at 1 epochs\n"
     ]
    },
    {
     "name": "stdout",
     "output_type": "stream",
     "text": [
      "[>>>>>>>>>>>>>>>>>>>>>>>>>>>>>>] 627/627, 7.3 task/s, elapsed: 86s, ETA:     0s"
     ]
    },
    {
     "name": "stderr",
     "output_type": "stream",
     "text": [
      "2021-07-26 13:15:57,096 - mmdet - INFO - Evaluating bbox...\n"
     ]
    },
    {
     "name": "stdout",
     "output_type": "stream",
     "text": [
      "Loading and preparing results...\n",
      "DONE (t=0.02s)\n",
      "creating index...\n",
      "index created!\n",
      "Running per image evaluation...\n",
      "Evaluate annotation type *bbox*\n",
      "DONE (t=0.03s).\n",
      "Accumulating evaluation results...\n",
      "DONE (t=0.03s).\n",
      " Average Precision  (AP) @[ IoU=0.50:0.95 | area=   all | maxDets=100 ] = 0.224\n",
      " Average Precision  (AP) @[ IoU=0.50      | area=   all | maxDets=1000 ] = 0.527\n",
      " Average Precision  (AP) @[ IoU=0.75      | area=   all | maxDets=1000 ] = 0.171\n",
      " Average Precision  (AP) @[ IoU=0.50:0.95 | area= small | maxDets=1000 ] = -1.000\n",
      " Average Precision  (AP) @[ IoU=0.50:0.95 | area=medium | maxDets=1000 ] = 0.600\n",
      " Average Precision  (AP) @[ IoU=0.50:0.95 | area= large | maxDets=1000 ] = 0.212\n",
      " Average Recall     (AR) @[ IoU=0.50:0.95 | area=   all | maxDets=100 ] = 0.323\n",
      " Average Recall     (AR) @[ IoU=0.50:0.95 | area=   all | maxDets=300 ] = 0.323\n",
      " Average Recall     (AR) @[ IoU=0.50:0.95 | area=   all | maxDets=1000 ] = 0.323\n",
      " Average Recall     (AR) @[ IoU=0.50:0.95 | area= small | maxDets=1000 ] = -1.000\n",
      " Average Recall     (AR) @[ IoU=0.50:0.95 | area=medium | maxDets=1000 ] = 0.600\n",
      " Average Recall     (AR) @[ IoU=0.50:0.95 | area= large | maxDets=1000 ] = 0.300\n"
     ]
    },
    {
     "name": "stderr",
     "output_type": "stream",
     "text": [
      "2021-07-26 13:15:58,735 - mmdet - INFO - Now best checkpoint is saved as best_bbox_mAP_epoch_1.pth.\n",
      "2021-07-26 13:15:58,736 - mmdet - INFO - Best bbox_mAP is 0.2240 at 1 epoch.\n",
      "2021-07-26 13:15:58,740 - mmdet - INFO - Epoch(val) [1][627]\tbbox_mAP: 0.2240, bbox_mAP_50: 0.5270, bbox_mAP_75: 0.1710, bbox_mAP_s: -1.0000, bbox_mAP_m: 0.6000, bbox_mAP_l: 0.2120, bbox_mAP_copypaste: 0.224 0.527 0.171 -1.000 0.600 0.212\n",
      "2021-07-26 13:16:47,545 - mmdet - INFO - Epoch [2][40/609]\tlr: 2.088e-03, eta: 0:34:15, time: 1.215, data_time: 0.073, memory: 6828, loss_rpn_cls: 0.0330, loss_rpn_bbox: 0.0125, s0.loss_cls: 0.0980, s0.acc: 96.9995, s0.loss_bbox: 0.0672, s1.loss_cls: 0.0446, s1.acc: 97.0251, s1.loss_bbox: 0.0560, s2.loss_cls: 0.0196, s2.acc: 97.5085, s2.loss_bbox: 0.0245, loss: 0.3553\n",
      "2021-07-26 13:17:33,443 - mmdet - INFO - Epoch [2][80/609]\tlr: 2.039e-03, eta: 0:33:29, time: 1.148, data_time: 0.017, memory: 6828, loss_rpn_cls: 0.0192, loss_rpn_bbox: 0.0081, s0.loss_cls: 0.0813, s0.acc: 97.4426, s0.loss_bbox: 0.0540, s1.loss_cls: 0.0437, s1.acc: 97.0544, s1.loss_bbox: 0.0560, s2.loss_cls: 0.0204, s2.acc: 97.2180, s2.loss_bbox: 0.0270, loss: 0.3095\n",
      "2021-07-26 13:18:19,562 - mmdet - INFO - Epoch [2][120/609]\tlr: 1.988e-03, eta: 0:32:43, time: 1.153, data_time: 0.017, memory: 6828, loss_rpn_cls: 0.0345, loss_rpn_bbox: 0.0120, s0.loss_cls: 0.0778, s0.acc: 97.4829, s0.loss_bbox: 0.0546, s1.loss_cls: 0.0417, s1.acc: 97.1277, s1.loss_bbox: 0.0573, s2.loss_cls: 0.0199, s2.acc: 97.0642, s2.loss_bbox: 0.0277, loss: 0.3255\n",
      "2021-07-26 13:19:06,149 - mmdet - INFO - Epoch [2][160/609]\tlr: 1.935e-03, eta: 0:31:58, time: 1.165, data_time: 0.017, memory: 6828, loss_rpn_cls: 0.0287, loss_rpn_bbox: 0.0150, s0.loss_cls: 0.0982, s0.acc: 96.6711, s0.loss_bbox: 0.0705, s1.loss_cls: 0.0487, s1.acc: 96.6199, s1.loss_bbox: 0.0665, s2.loss_cls: 0.0212, s2.acc: 97.0203, s2.loss_bbox: 0.0289, loss: 0.3778\n",
      "2021-07-26 13:19:51,878 - mmdet - INFO - Epoch [2][200/609]\tlr: 1.881e-03, eta: 0:31:11, time: 1.143, data_time: 0.017, memory: 6828, loss_rpn_cls: 0.0240, loss_rpn_bbox: 0.0102, s0.loss_cls: 0.0762, s0.acc: 97.4463, s0.loss_bbox: 0.0572, s1.loss_cls: 0.0382, s1.acc: 97.3169, s1.loss_bbox: 0.0520, s2.loss_cls: 0.0188, s2.acc: 97.2742, s2.loss_bbox: 0.0247, loss: 0.3012\n",
      "2021-07-26 13:20:38,449 - mmdet - INFO - Epoch [2][240/609]\tlr: 1.824e-03, eta: 0:30:26, time: 1.164, data_time: 0.017, memory: 6828, loss_rpn_cls: 0.0244, loss_rpn_bbox: 0.0113, s0.loss_cls: 0.0777, s0.acc: 97.3206, s0.loss_bbox: 0.0620, s1.loss_cls: 0.0420, s1.acc: 96.8347, s1.loss_bbox: 0.0667, s2.loss_cls: 0.0215, s2.acc: 96.7151, s2.loss_bbox: 0.0322, loss: 0.3379\n",
      "2021-07-26 13:21:24,137 - mmdet - INFO - Epoch [2][280/609]\tlr: 1.766e-03, eta: 0:29:40, time: 1.142, data_time: 0.017, memory: 6828, loss_rpn_cls: 0.0233, loss_rpn_bbox: 0.0115, s0.loss_cls: 0.0775, s0.acc: 97.3413, s0.loss_bbox: 0.0579, s1.loss_cls: 0.0427, s1.acc: 96.9763, s1.loss_bbox: 0.0607, s2.loss_cls: 0.0220, s2.acc: 96.8640, s2.loss_bbox: 0.0323, loss: 0.3279\n",
      "2021-07-26 13:22:10,323 - mmdet - INFO - Epoch [2][320/609]\tlr: 1.707e-03, eta: 0:28:54, time: 1.155, data_time: 0.018, memory: 6828, loss_rpn_cls: 0.0244, loss_rpn_bbox: 0.0097, s0.loss_cls: 0.0786, s0.acc: 97.3706, s0.loss_bbox: 0.0582, s1.loss_cls: 0.0405, s1.acc: 97.1472, s1.loss_bbox: 0.0643, s2.loss_cls: 0.0224, s2.acc: 96.5576, s2.loss_bbox: 0.0359, loss: 0.3338\n",
      "2021-07-26 13:22:57,260 - mmdet - INFO - Epoch [2][360/609]\tlr: 1.646e-03, eta: 0:28:09, time: 1.173, data_time: 0.018, memory: 6828, loss_rpn_cls: 0.0214, loss_rpn_bbox: 0.0102, s0.loss_cls: 0.0823, s0.acc: 97.1313, s0.loss_bbox: 0.0615, s1.loss_cls: 0.0447, s1.acc: 96.7834, s1.loss_bbox: 0.0697, s2.loss_cls: 0.0233, s2.acc: 96.4465, s2.loss_bbox: 0.0357, loss: 0.3489\n",
      "2021-07-26 13:23:43,236 - mmdet - INFO - Epoch [2][400/609]\tlr: 1.584e-03, eta: 0:27:23, time: 1.149, data_time: 0.017, memory: 6828, loss_rpn_cls: 0.0195, loss_rpn_bbox: 0.0099, s0.loss_cls: 0.0738, s0.acc: 97.5146, s0.loss_bbox: 0.0534, s1.loss_cls: 0.0422, s1.acc: 96.9592, s1.loss_bbox: 0.0659, s2.loss_cls: 0.0218, s2.acc: 96.7017, s2.loss_bbox: 0.0348, loss: 0.3212\n",
      "2021-07-26 13:24:29,621 - mmdet - INFO - Epoch [2][440/609]\tlr: 1.522e-03, eta: 0:26:37, time: 1.160, data_time: 0.017, memory: 6828, loss_rpn_cls: 0.0263, loss_rpn_bbox: 0.0122, s0.loss_cls: 0.0902, s0.acc: 96.8799, s0.loss_bbox: 0.0699, s1.loss_cls: 0.0480, s1.acc: 96.3443, s1.loss_bbox: 0.0733, s2.loss_cls: 0.0242, s2.acc: 96.2040, s2.loss_bbox: 0.0356, loss: 0.3797\n",
      "2021-07-26 13:25:15,607 - mmdet - INFO - Epoch [2][480/609]\tlr: 1.459e-03, eta: 0:25:51, time: 1.150, data_time: 0.018, memory: 6828, loss_rpn_cls: 0.0212, loss_rpn_bbox: 0.0099, s0.loss_cls: 0.0802, s0.acc: 97.1765, s0.loss_bbox: 0.0639, s1.loss_cls: 0.0430, s1.acc: 96.8542, s1.loss_bbox: 0.0688, s2.loss_cls: 0.0219, s2.acc: 96.6211, s2.loss_bbox: 0.0362, loss: 0.3452\n",
      "2021-07-26 13:26:01,494 - mmdet - INFO - Epoch [2][520/609]\tlr: 1.395e-03, eta: 0:25:05, time: 1.147, data_time: 0.017, memory: 6828, loss_rpn_cls: 0.0336, loss_rpn_bbox: 0.0129, s0.loss_cls: 0.0894, s0.acc: 96.9421, s0.loss_bbox: 0.0675, s1.loss_cls: 0.0475, s1.acc: 96.5710, s1.loss_bbox: 0.0707, s2.loss_cls: 0.0232, s2.acc: 96.5771, s2.loss_bbox: 0.0343, loss: 0.3792\n",
      "2021-07-26 13:26:47,393 - mmdet - INFO - Epoch [2][560/609]\tlr: 1.331e-03, eta: 0:24:19, time: 1.147, data_time: 0.017, memory: 6828, loss_rpn_cls: 0.0248, loss_rpn_bbox: 0.0131, s0.loss_cls: 0.0914, s0.acc: 96.8286, s0.loss_bbox: 0.0718, s1.loss_cls: 0.0492, s1.acc: 96.3879, s1.loss_bbox: 0.0737, s2.loss_cls: 0.0244, s2.acc: 96.3989, s2.loss_bbox: 0.0369, loss: 0.3853\n",
      "2021-07-26 13:27:33,308 - mmdet - INFO - Epoch [2][600/609]\tlr: 1.266e-03, eta: 0:23:32, time: 1.148, data_time: 0.017, memory: 6828, loss_rpn_cls: 0.0294, loss_rpn_bbox: 0.0111, s0.loss_cls: 0.0976, s0.acc: 96.6602, s0.loss_bbox: 0.0739, s1.loss_cls: 0.0517, s1.acc: 96.1584, s1.loss_bbox: 0.0793, s2.loss_cls: 0.0259, s2.acc: 96.0950, s2.loss_bbox: 0.0441, loss: 0.4130\n",
      "2021-07-26 13:27:43,684 - mmdet - INFO - Saving checkpoint at 2 epochs\n"
     ]
    },
    {
     "name": "stdout",
     "output_type": "stream",
     "text": [
      "[>>>>>>>>>>>>>>>>>>>>>>>>>>>>>>] 627/627, 7.1 task/s, elapsed: 88s, ETA:     0s"
     ]
    },
    {
     "name": "stderr",
     "output_type": "stream",
     "text": [
      "2021-07-26 13:29:13,313 - mmdet - INFO - Evaluating bbox...\n"
     ]
    },
    {
     "name": "stdout",
     "output_type": "stream",
     "text": [
      "Loading and preparing results...\n",
      "DONE (t=0.23s)\n",
      "creating index...\n",
      "index created!\n",
      "Running per image evaluation...\n",
      "Evaluate annotation type *bbox*\n",
      "DONE (t=0.04s).\n",
      "Accumulating evaluation results...\n",
      "DONE (t=0.02s).\n",
      " Average Precision  (AP) @[ IoU=0.50:0.95 | area=   all | maxDets=100 ] = 0.226\n",
      " Average Precision  (AP) @[ IoU=0.50      | area=   all | maxDets=1000 ] = 0.744\n",
      " Average Precision  (AP) @[ IoU=0.75      | area=   all | maxDets=1000 ] = 0.043\n",
      " Average Precision  (AP) @[ IoU=0.50:0.95 | area= small | maxDets=1000 ] = -1.000\n",
      " Average Precision  (AP) @[ IoU=0.50:0.95 | area=medium | maxDets=1000 ] = 0.500\n",
      " Average Precision  (AP) @[ IoU=0.50:0.95 | area= large | maxDets=1000 ] = 0.206\n",
      " Average Recall     (AR) @[ IoU=0.50:0.95 | area=   all | maxDets=100 ] = 0.270\n",
      " Average Recall     (AR) @[ IoU=0.50:0.95 | area=   all | maxDets=300 ] = 0.270\n",
      " Average Recall     (AR) @[ IoU=0.50:0.95 | area=   all | maxDets=1000 ] = 0.270\n",
      " Average Recall     (AR) @[ IoU=0.50:0.95 | area= small | maxDets=1000 ] = -1.000\n",
      " Average Recall     (AR) @[ IoU=0.50:0.95 | area=medium | maxDets=1000 ] = 0.500\n",
      " Average Recall     (AR) @[ IoU=0.50:0.95 | area= large | maxDets=1000 ] = 0.250\n"
     ]
    },
    {
     "name": "stderr",
     "output_type": "stream",
     "text": [
      "2021-07-26 13:29:15,166 - mmdet - INFO - Now best checkpoint is saved as best_bbox_mAP_epoch_2.pth.\n",
      "2021-07-26 13:29:15,167 - mmdet - INFO - Best bbox_mAP is 0.2260 at 2 epoch.\n",
      "2021-07-26 13:29:15,172 - mmdet - INFO - Epoch(val) [2][627]\tbbox_mAP: 0.2260, bbox_mAP_50: 0.7440, bbox_mAP_75: 0.0430, bbox_mAP_s: -1.0000, bbox_mAP_m: 0.5000, bbox_mAP_l: 0.2060, bbox_mAP_copypaste: 0.226 0.744 0.043 -1.000 0.500 0.206\n",
      "2021-07-26 13:30:03,804 - mmdet - INFO - Epoch [3][40/609]\tlr: 1.187e-03, eta: 0:22:29, time: 1.211, data_time: 0.074, memory: 6828, loss_rpn_cls: 0.0261, loss_rpn_bbox: 0.0115, s0.loss_cls: 0.0906, s0.acc: 96.8054, s0.loss_bbox: 0.0715, s1.loss_cls: 0.0500, s1.acc: 96.3425, s1.loss_bbox: 0.0770, s2.loss_cls: 0.0255, s2.acc: 96.0371, s2.loss_bbox: 0.0423, loss: 0.3945\n",
      "2021-07-26 13:30:50,018 - mmdet - INFO - Epoch [3][80/609]\tlr: 1.123e-03, eta: 0:21:43, time: 1.156, data_time: 0.017, memory: 6828, loss_rpn_cls: 0.0205, loss_rpn_bbox: 0.0100, s0.loss_cls: 0.0809, s0.acc: 97.2046, s0.loss_bbox: 0.0585, s1.loss_cls: 0.0437, s1.acc: 96.7957, s1.loss_bbox: 0.0694, s2.loss_cls: 0.0234, s2.acc: 96.4162, s2.loss_bbox: 0.0415, loss: 0.3480\n",
      "2021-07-26 13:31:36,174 - mmdet - INFO - Epoch [3][120/609]\tlr: 1.059e-03, eta: 0:20:58, time: 1.153, data_time: 0.017, memory: 6828, loss_rpn_cls: 0.0182, loss_rpn_bbox: 0.0096, s0.loss_cls: 0.0714, s0.acc: 97.4207, s0.loss_bbox: 0.0566, s1.loss_cls: 0.0397, s1.acc: 97.0312, s1.loss_bbox: 0.0658, s2.loss_cls: 0.0207, s2.acc: 96.7627, s2.loss_bbox: 0.0364, loss: 0.3184\n",
      "2021-07-26 13:32:22,306 - mmdet - INFO - Epoch [3][160/609]\tlr: 9.955e-04, eta: 0:20:12, time: 1.154, data_time: 0.017, memory: 6828, loss_rpn_cls: 0.0271, loss_rpn_bbox: 0.0104, s0.loss_cls: 0.0759, s0.acc: 97.3267, s0.loss_bbox: 0.0593, s1.loss_cls: 0.0435, s1.acc: 96.6504, s1.loss_bbox: 0.0722, s2.loss_cls: 0.0238, s2.acc: 96.1267, s2.loss_bbox: 0.0442, loss: 0.3564\n",
      "2021-07-26 13:33:08,063 - mmdet - INFO - Epoch [3][200/609]\tlr: 9.328e-04, eta: 0:19:26, time: 1.144, data_time: 0.017, memory: 6828, loss_rpn_cls: 0.0149, loss_rpn_bbox: 0.0083, s0.loss_cls: 0.0676, s0.acc: 97.6038, s0.loss_bbox: 0.0542, s1.loss_cls: 0.0381, s1.acc: 97.0593, s1.loss_bbox: 0.0667, s2.loss_cls: 0.0223, s2.acc: 96.4600, s2.loss_bbox: 0.0429, loss: 0.3151\n",
      "2021-07-26 13:33:54,382 - mmdet - INFO - Epoch [3][240/609]\tlr: 8.709e-04, eta: 0:18:41, time: 1.158, data_time: 0.017, memory: 6828, loss_rpn_cls: 0.0221, loss_rpn_bbox: 0.0102, s0.loss_cls: 0.0815, s0.acc: 97.0679, s0.loss_bbox: 0.0657, s1.loss_cls: 0.0451, s1.acc: 96.5907, s1.loss_bbox: 0.0787, s2.loss_cls: 0.0246, s2.acc: 96.1008, s2.loss_bbox: 0.0484, loss: 0.3764\n",
      "2021-07-26 13:34:40,997 - mmdet - INFO - Epoch [3][280/609]\tlr: 8.099e-04, eta: 0:17:55, time: 1.165, data_time: 0.017, memory: 6828, loss_rpn_cls: 0.0181, loss_rpn_bbox: 0.0105, s0.loss_cls: 0.0884, s0.acc: 96.9006, s0.loss_bbox: 0.0646, s1.loss_cls: 0.0489, s1.acc: 96.2097, s1.loss_bbox: 0.0744, s2.loss_cls: 0.0250, s2.acc: 96.0437, s2.loss_bbox: 0.0414, loss: 0.3714\n",
      "2021-07-26 13:35:27,223 - mmdet - INFO - Epoch [3][320/609]\tlr: 7.502e-04, eta: 0:17:10, time: 1.156, data_time: 0.017, memory: 6828, loss_rpn_cls: 0.0193, loss_rpn_bbox: 0.0124, s0.loss_cls: 0.0754, s0.acc: 97.2424, s0.loss_bbox: 0.0625, s1.loss_cls: 0.0426, s1.acc: 96.7261, s1.loss_bbox: 0.0743, s2.loss_cls: 0.0236, s2.acc: 96.2292, s2.loss_bbox: 0.0476, loss: 0.3578\n",
      "2021-07-26 13:36:13,460 - mmdet - INFO - Epoch [3][360/609]\tlr: 6.918e-04, eta: 0:16:24, time: 1.155, data_time: 0.018, memory: 6828, loss_rpn_cls: 0.0147, loss_rpn_bbox: 0.0088, s0.loss_cls: 0.0752, s0.acc: 97.0959, s0.loss_bbox: 0.0626, s1.loss_cls: 0.0434, s1.acc: 96.5332, s1.loss_bbox: 0.0805, s2.loss_cls: 0.0252, s2.acc: 95.8850, s2.loss_bbox: 0.0519, loss: 0.3622\n",
      "2021-07-26 13:36:59,721 - mmdet - INFO - Epoch [3][400/609]\tlr: 6.349e-04, eta: 0:15:38, time: 1.157, data_time: 0.018, memory: 6828, loss_rpn_cls: 0.0224, loss_rpn_bbox: 0.0110, s0.loss_cls: 0.0818, s0.acc: 96.8811, s0.loss_bbox: 0.0610, s1.loss_cls: 0.0494, s1.acc: 96.2427, s1.loss_bbox: 0.0779, s2.loss_cls: 0.0267, s2.acc: 95.5920, s2.loss_bbox: 0.0470, loss: 0.3773\n",
      "2021-07-26 13:37:45,983 - mmdet - INFO - Epoch [3][440/609]\tlr: 5.796e-04, eta: 0:14:52, time: 1.157, data_time: 0.017, memory: 6828, loss_rpn_cls: 0.0168, loss_rpn_bbox: 0.0083, s0.loss_cls: 0.0758, s0.acc: 97.1582, s0.loss_bbox: 0.0609, s1.loss_cls: 0.0443, s1.acc: 96.7920, s1.loss_bbox: 0.0755, s2.loss_cls: 0.0234, s2.acc: 96.3123, s2.loss_bbox: 0.0471, loss: 0.3520\n",
      "2021-07-26 13:38:31,695 - mmdet - INFO - Epoch [3][480/609]\tlr: 5.261e-04, eta: 0:14:06, time: 1.143, data_time: 0.017, memory: 6828, loss_rpn_cls: 0.0193, loss_rpn_bbox: 0.0105, s0.loss_cls: 0.0795, s0.acc: 96.9641, s0.loss_bbox: 0.0642, s1.loss_cls: 0.0443, s1.acc: 96.5308, s1.loss_bbox: 0.0810, s2.loss_cls: 0.0237, s2.acc: 96.2085, s2.loss_bbox: 0.0502, loss: 0.3728\n",
      "2021-07-26 13:39:18,066 - mmdet - INFO - Epoch [3][520/609]\tlr: 4.745e-04, eta: 0:13:21, time: 1.159, data_time: 0.017, memory: 6828, loss_rpn_cls: 0.0201, loss_rpn_bbox: 0.0107, s0.loss_cls: 0.0833, s0.acc: 96.9080, s0.loss_bbox: 0.0660, s1.loss_cls: 0.0468, s1.acc: 96.5066, s1.loss_bbox: 0.0791, s2.loss_cls: 0.0246, s2.acc: 96.2001, s2.loss_bbox: 0.0455, loss: 0.3762\n",
      "2021-07-26 13:40:04,131 - mmdet - INFO - Epoch [3][560/609]\tlr: 4.250e-04, eta: 0:12:35, time: 1.152, data_time: 0.017, memory: 6828, loss_rpn_cls: 0.0192, loss_rpn_bbox: 0.0094, s0.loss_cls: 0.0782, s0.acc: 97.2864, s0.loss_bbox: 0.0577, s1.loss_cls: 0.0435, s1.acc: 96.8652, s1.loss_bbox: 0.0726, s2.loss_cls: 0.0227, s2.acc: 96.4904, s2.loss_bbox: 0.0435, loss: 0.3468\n",
      "2021-07-26 13:40:49,820 - mmdet - INFO - Epoch [3][600/609]\tlr: 3.777e-04, eta: 0:11:49, time: 1.142, data_time: 0.017, memory: 6828, loss_rpn_cls: 0.0134, loss_rpn_bbox: 0.0086, s0.loss_cls: 0.0643, s0.acc: 97.5427, s0.loss_bbox: 0.0525, s1.loss_cls: 0.0373, s1.acc: 97.1216, s1.loss_bbox: 0.0713, s2.loss_cls: 0.0220, s2.acc: 96.3196, s2.loss_bbox: 0.0468, loss: 0.3163\n",
      "2021-07-26 13:41:00,284 - mmdet - INFO - Saving checkpoint at 3 epochs\n"
     ]
    },
    {
     "name": "stdout",
     "output_type": "stream",
     "text": [
      "[>>>>>>>>>>>>>>>>>>>>>>>>>>>>>>] 627/627, 7.1 task/s, elapsed: 89s, ETA:     0s"
     ]
    },
    {
     "name": "stderr",
     "output_type": "stream",
     "text": [
      "2021-07-26 13:42:30,668 - mmdet - INFO - Evaluating bbox...\n"
     ]
    },
    {
     "name": "stdout",
     "output_type": "stream",
     "text": [
      "Loading and preparing results...\n",
      "DONE (t=0.01s)\n",
      "creating index...\n",
      "index created!\n",
      "Running per image evaluation...\n",
      "Evaluate annotation type *bbox*\n",
      "DONE (t=0.04s).\n",
      "Accumulating evaluation results...\n",
      "DONE (t=0.03s).\n",
      " Average Precision  (AP) @[ IoU=0.50:0.95 | area=   all | maxDets=100 ] = 0.319\n",
      " Average Precision  (AP) @[ IoU=0.50      | area=   all | maxDets=1000 ] = 0.875\n",
      " Average Precision  (AP) @[ IoU=0.75      | area=   all | maxDets=1000 ] = 0.052\n",
      " Average Precision  (AP) @[ IoU=0.50:0.95 | area= small | maxDets=1000 ] = -1.000\n",
      " Average Precision  (AP) @[ IoU=0.50:0.95 | area=medium | maxDets=1000 ] = 0.500\n",
      " Average Precision  (AP) @[ IoU=0.50:0.95 | area= large | maxDets=1000 ] = 0.313\n",
      " Average Recall     (AR) @[ IoU=0.50:0.95 | area=   all | maxDets=100 ] = 0.363\n",
      " Average Recall     (AR) @[ IoU=0.50:0.95 | area=   all | maxDets=300 ] = 0.363\n",
      " Average Recall     (AR) @[ IoU=0.50:0.95 | area=   all | maxDets=1000 ] = 0.363\n",
      " Average Recall     (AR) @[ IoU=0.50:0.95 | area= small | maxDets=1000 ] = -1.000\n",
      " Average Recall     (AR) @[ IoU=0.50:0.95 | area=medium | maxDets=1000 ] = 0.500\n",
      " Average Recall     (AR) @[ IoU=0.50:0.95 | area= large | maxDets=1000 ] = 0.358\n"
     ]
    },
    {
     "name": "stderr",
     "output_type": "stream",
     "text": [
      "2021-07-26 13:42:32,557 - mmdet - INFO - Now best checkpoint is saved as best_bbox_mAP_epoch_3.pth.\n",
      "2021-07-26 13:42:32,559 - mmdet - INFO - Best bbox_mAP is 0.3190 at 3 epoch.\n",
      "2021-07-26 13:42:32,561 - mmdet - INFO - Epoch(val) [3][627]\tbbox_mAP: 0.3190, bbox_mAP_50: 0.8750, bbox_mAP_75: 0.0520, bbox_mAP_s: -1.0000, bbox_mAP_m: 0.5000, bbox_mAP_l: 0.3130, bbox_mAP_copypaste: 0.319 0.875 0.052 -1.000 0.500 0.313\n",
      "2021-07-26 13:43:21,487 - mmdet - INFO - Epoch [4][40/609]\tlr: 3.229e-04, eta: 0:10:50, time: 1.218, data_time: 0.075, memory: 6828, loss_rpn_cls: 0.0150, loss_rpn_bbox: 0.0084, s0.loss_cls: 0.0714, s0.acc: 97.3438, s0.loss_bbox: 0.0558, s1.loss_cls: 0.0426, s1.acc: 96.7181, s1.loss_bbox: 0.0729, s2.loss_cls: 0.0250, s2.acc: 95.9682, s2.loss_bbox: 0.0501, loss: 0.3412\n",
      "2021-07-26 13:44:07,787 - mmdet - INFO - Epoch [4][80/609]\tlr: 2.809e-04, eta: 0:10:05, time: 1.157, data_time: 0.017, memory: 6828, loss_rpn_cls: 0.0146, loss_rpn_bbox: 0.0089, s0.loss_cls: 0.0657, s0.acc: 97.4133, s0.loss_bbox: 0.0548, s1.loss_cls: 0.0387, s1.acc: 96.9678, s1.loss_bbox: 0.0714, s2.loss_cls: 0.0223, s2.acc: 96.4380, s2.loss_bbox: 0.0515, loss: 0.3279\n",
      "2021-07-26 13:44:53,866 - mmdet - INFO - Epoch [4][120/609]\tlr: 2.415e-04, eta: 0:09:19, time: 1.152, data_time: 0.017, memory: 6828, loss_rpn_cls: 0.0161, loss_rpn_bbox: 0.0085, s0.loss_cls: 0.0722, s0.acc: 97.2412, s0.loss_bbox: 0.0596, s1.loss_cls: 0.0426, s1.acc: 96.6752, s1.loss_bbox: 0.0778, s2.loss_cls: 0.0253, s2.acc: 95.7912, s2.loss_bbox: 0.0536, loss: 0.3556\n",
      "2021-07-26 13:45:40,205 - mmdet - INFO - Epoch [4][160/609]\tlr: 2.047e-04, eta: 0:08:33, time: 1.158, data_time: 0.018, memory: 6828, loss_rpn_cls: 0.0176, loss_rpn_bbox: 0.0091, s0.loss_cls: 0.0722, s0.acc: 97.2437, s0.loss_bbox: 0.0564, s1.loss_cls: 0.0410, s1.acc: 96.7758, s1.loss_bbox: 0.0749, s2.loss_cls: 0.0239, s2.acc: 96.0250, s2.loss_bbox: 0.0511, loss: 0.3462\n",
      "2021-07-26 13:46:26,582 - mmdet - INFO - Epoch [4][200/609]\tlr: 1.708e-04, eta: 0:07:48, time: 1.159, data_time: 0.017, memory: 6828, loss_rpn_cls: 0.0199, loss_rpn_bbox: 0.0088, s0.loss_cls: 0.0703, s0.acc: 97.2900, s0.loss_bbox: 0.0583, s1.loss_cls: 0.0411, s1.acc: 96.7713, s1.loss_bbox: 0.0725, s2.loss_cls: 0.0247, s2.acc: 96.0099, s2.loss_bbox: 0.0496, loss: 0.3453\n",
      "2021-07-26 13:47:12,816 - mmdet - INFO - Epoch [4][240/609]\tlr: 1.397e-04, eta: 0:07:02, time: 1.156, data_time: 0.018, memory: 6828, loss_rpn_cls: 0.0136, loss_rpn_bbox: 0.0089, s0.loss_cls: 0.0738, s0.acc: 97.2144, s0.loss_bbox: 0.0591, s1.loss_cls: 0.0436, s1.acc: 96.6486, s1.loss_bbox: 0.0761, s2.loss_cls: 0.0249, s2.acc: 95.9811, s2.loss_bbox: 0.0504, loss: 0.3505\n",
      "2021-07-26 13:47:58,392 - mmdet - INFO - Epoch [4][280/609]\tlr: 1.116e-04, eta: 0:06:16, time: 1.139, data_time: 0.017, memory: 6828, loss_rpn_cls: 0.0178, loss_rpn_bbox: 0.0104, s0.loss_cls: 0.0650, s0.acc: 97.5256, s0.loss_bbox: 0.0517, s1.loss_cls: 0.0380, s1.acc: 97.0587, s1.loss_bbox: 0.0672, s2.loss_cls: 0.0222, s2.acc: 96.4969, s2.loss_bbox: 0.0473, loss: 0.3196\n",
      "2021-07-26 13:48:44,877 - mmdet - INFO - Epoch [4][320/609]\tlr: 8.650e-05, eta: 0:05:30, time: 1.162, data_time: 0.017, memory: 6828, loss_rpn_cls: 0.0178, loss_rpn_bbox: 0.0090, s0.loss_cls: 0.0797, s0.acc: 96.9727, s0.loss_bbox: 0.0628, s1.loss_cls: 0.0467, s1.acc: 96.5063, s1.loss_bbox: 0.0802, s2.loss_cls: 0.0254, s2.acc: 96.1426, s2.loss_bbox: 0.0515, loss: 0.3731\n",
      "2021-07-26 13:49:31,210 - mmdet - INFO - Epoch [4][360/609]\tlr: 6.451e-05, eta: 0:04:45, time: 1.158, data_time: 0.018, memory: 6828, loss_rpn_cls: 0.0145, loss_rpn_bbox: 0.0094, s0.loss_cls: 0.0761, s0.acc: 97.1094, s0.loss_bbox: 0.0624, s1.loss_cls: 0.0442, s1.acc: 96.5841, s1.loss_bbox: 0.0775, s2.loss_cls: 0.0242, s2.acc: 96.1489, s2.loss_bbox: 0.0504, loss: 0.3588\n",
      "2021-07-26 13:50:17,012 - mmdet - INFO - Epoch [4][400/609]\tlr: 4.566e-05, eta: 0:03:59, time: 1.146, data_time: 0.018, memory: 6828, loss_rpn_cls: 0.0166, loss_rpn_bbox: 0.0082, s0.loss_cls: 0.0687, s0.acc: 97.3767, s0.loss_bbox: 0.0578, s1.loss_cls: 0.0417, s1.acc: 96.7023, s1.loss_bbox: 0.0764, s2.loss_cls: 0.0223, s2.acc: 96.3409, s2.loss_bbox: 0.0517, loss: 0.3434\n",
      "2021-07-26 13:51:02,576 - mmdet - INFO - Epoch [4][440/609]\tlr: 3.002e-05, eta: 0:03:13, time: 1.139, data_time: 0.017, memory: 6828, loss_rpn_cls: 0.0159, loss_rpn_bbox: 0.0088, s0.loss_cls: 0.0704, s0.acc: 97.4097, s0.loss_bbox: 0.0549, s1.loss_cls: 0.0417, s1.acc: 96.7765, s1.loss_bbox: 0.0704, s2.loss_cls: 0.0225, s2.acc: 96.3710, s2.loss_bbox: 0.0474, loss: 0.3320\n",
      "2021-07-26 13:51:48,359 - mmdet - INFO - Epoch [4][480/609]\tlr: 1.763e-05, eta: 0:02:27, time: 1.145, data_time: 0.017, memory: 6828, loss_rpn_cls: 0.0172, loss_rpn_bbox: 0.0102, s0.loss_cls: 0.0768, s0.acc: 97.1875, s0.loss_bbox: 0.0614, s1.loss_cls: 0.0454, s1.acc: 96.5137, s1.loss_bbox: 0.0768, s2.loss_cls: 0.0245, s2.acc: 95.9809, s2.loss_bbox: 0.0491, loss: 0.3613\n",
      "2021-07-26 13:52:34,737 - mmdet - INFO - Epoch [4][520/609]\tlr: 8.510e-06, eta: 0:01:41, time: 1.159, data_time: 0.018, memory: 6828, loss_rpn_cls: 0.0196, loss_rpn_bbox: 0.0097, s0.loss_cls: 0.0760, s0.acc: 97.1436, s0.loss_bbox: 0.0626, s1.loss_cls: 0.0452, s1.acc: 96.5247, s1.loss_bbox: 0.0815, s2.loss_cls: 0.0242, s2.acc: 95.9972, s2.loss_bbox: 0.0496, loss: 0.3685\n",
      "2021-07-26 13:53:20,881 - mmdet - INFO - Epoch [4][560/609]\tlr: 2.698e-06, eta: 0:00:56, time: 1.154, data_time: 0.018, memory: 6828, loss_rpn_cls: 0.0153, loss_rpn_bbox: 0.0103, s0.loss_cls: 0.0679, s0.acc: 97.4023, s0.loss_bbox: 0.0557, s1.loss_cls: 0.0399, s1.acc: 96.8973, s1.loss_bbox: 0.0726, s2.loss_cls: 0.0234, s2.acc: 96.2013, s2.loss_bbox: 0.0500, loss: 0.3352\n",
      "2021-07-26 13:54:06,927 - mmdet - INFO - Epoch [4][600/609]\tlr: 2.039e-07, eta: 0:00:10, time: 1.151, data_time: 0.018, memory: 6828, loss_rpn_cls: 0.0181, loss_rpn_bbox: 0.0116, s0.loss_cls: 0.0786, s0.acc: 96.9336, s0.loss_bbox: 0.0650, s1.loss_cls: 0.0430, s1.acc: 96.7223, s1.loss_bbox: 0.0797, s2.loss_cls: 0.0237, s2.acc: 96.2591, s2.loss_bbox: 0.0520, loss: 0.3716\n",
      "2021-07-26 13:54:17,191 - mmdet - INFO - Saving checkpoint at 4 epochs\n"
     ]
    },
    {
     "name": "stdout",
     "output_type": "stream",
     "text": [
      "[>>>>>>>>>>>>>>>>>>>>>>>>>>>>>>] 627/627, 7.1 task/s, elapsed: 89s, ETA:     0s"
     ]
    },
    {
     "name": "stderr",
     "output_type": "stream",
     "text": [
      "2021-07-26 13:55:47,593 - mmdet - INFO - Evaluating bbox...\n"
     ]
    },
    {
     "name": "stdout",
     "output_type": "stream",
     "text": [
      "Loading and preparing results...\n",
      "DONE (t=0.01s)\n",
      "creating index...\n",
      "index created!\n",
      "Running per image evaluation...\n",
      "Evaluate annotation type *bbox*\n",
      "DONE (t=0.04s).\n",
      "Accumulating evaluation results...\n",
      "DONE (t=0.03s).\n",
      " Average Precision  (AP) @[ IoU=0.50:0.95 | area=   all | maxDets=100 ] = 0.325\n",
      " Average Precision  (AP) @[ IoU=0.50      | area=   all | maxDets=1000 ] = 0.847\n",
      " Average Precision  (AP) @[ IoU=0.75      | area=   all | maxDets=1000 ] = 0.223\n",
      " Average Precision  (AP) @[ IoU=0.50:0.95 | area= small | maxDets=1000 ] = -1.000\n",
      " Average Precision  (AP) @[ IoU=0.50:0.95 | area=medium | maxDets=1000 ] = 0.600\n",
      " Average Precision  (AP) @[ IoU=0.50:0.95 | area= large | maxDets=1000 ] = 0.315\n",
      " Average Recall     (AR) @[ IoU=0.50:0.95 | area=   all | maxDets=100 ] = 0.383\n",
      " Average Recall     (AR) @[ IoU=0.50:0.95 | area=   all | maxDets=300 ] = 0.383\n",
      " Average Recall     (AR) @[ IoU=0.50:0.95 | area=   all | maxDets=1000 ] = 0.383\n",
      " Average Recall     (AR) @[ IoU=0.50:0.95 | area= small | maxDets=1000 ] = -1.000\n",
      " Average Recall     (AR) @[ IoU=0.50:0.95 | area=medium | maxDets=1000 ] = 0.600\n",
      " Average Recall     (AR) @[ IoU=0.50:0.95 | area= large | maxDets=1000 ] = 0.375\n"
     ]
    },
    {
     "name": "stderr",
     "output_type": "stream",
     "text": [
      "2021-07-26 13:55:49,307 - mmdet - INFO - Now best checkpoint is saved as best_bbox_mAP_epoch_4.pth.\n",
      "2021-07-26 13:55:49,308 - mmdet - INFO - Best bbox_mAP is 0.3250 at 4 epoch.\n",
      "2021-07-26 13:55:49,313 - mmdet - INFO - Epoch(val) [4][627]\tbbox_mAP: 0.3250, bbox_mAP_50: 0.8470, bbox_mAP_75: 0.2230, bbox_mAP_s: -1.0000, bbox_mAP_m: 0.6000, bbox_mAP_l: 0.3150, bbox_mAP_copypaste: 0.325 0.847 0.223 -1.000 0.600 0.315\n"
     ]
    },
    {
     "data": {
      "text/html": [
       "<br/>Waiting for W&B process to finish, PID 233<br/>Program ended successfully."
      ],
      "text/plain": [
       "<IPython.core.display.HTML object>"
      ]
     },
     "metadata": {},
     "output_type": "display_data"
    },
    {
     "data": {
      "application/vnd.jupyter.widget-view+json": {
       "model_id": "71bc7f0499124172aba10bc206d0c722",
       "version_major": 2,
       "version_minor": 0
      },
      "text/plain": [
       "VBox(children=(Label(value=' 0.00MB of 0.00MB uploaded (0.00MB deduped)\\r'), FloatProgress(value=1.0, max=1.0)…"
      ]
     },
     "metadata": {},
     "output_type": "display_data"
    },
    {
     "data": {
      "text/html": [
       "Find user logs for this run at: <code>/kaggle/working/wandb/run-20210726_130234-1qzb1cto/logs/debug.log</code>"
      ],
      "text/plain": [
       "<IPython.core.display.HTML object>"
      ]
     },
     "metadata": {},
     "output_type": "display_data"
    },
    {
     "data": {
      "text/html": [
       "Find internal logs for this run at: <code>/kaggle/working/wandb/run-20210726_130234-1qzb1cto/logs/debug-internal.log</code>"
      ],
      "text/plain": [
       "<IPython.core.display.HTML object>"
      ]
     },
     "metadata": {},
     "output_type": "display_data"
    },
    {
     "data": {
      "text/html": [
       "<h3>Run summary:</h3><br/><style>\n",
       "    table.wandb td:nth-child(1) { padding: 0 10px; text-align: right }\n",
       "    </style><table class=\"wandb\">\n",
       "<tr><td>train/loss_rpn_cls</td><td>0.01806</td></tr><tr><td>train/loss_rpn_bbox</td><td>0.01156</td></tr><tr><td>train/s0.loss_cls</td><td>0.07861</td></tr><tr><td>train/s0.acc</td><td>96.93359</td></tr><tr><td>train/s0.loss_bbox</td><td>0.065</td></tr><tr><td>train/s1.loss_cls</td><td>0.04298</td></tr><tr><td>train/s1.acc</td><td>96.72234</td></tr><tr><td>train/s1.loss_bbox</td><td>0.07967</td></tr><tr><td>train/s2.loss_cls</td><td>0.02372</td></tr><tr><td>train/s2.acc</td><td>96.25907</td></tr><tr><td>train/s2.loss_bbox</td><td>0.05202</td></tr><tr><td>train/loss</td><td>0.37162</td></tr><tr><td>learning_rate</td><td>0.0</td></tr><tr><td>momentum</td><td>0.9</td></tr><tr><td>_runtime</td><td>3195</td></tr><tr><td>_timestamp</td><td>1627307749</td></tr><tr><td>_step</td><td>2437</td></tr><tr><td>val/bbox_mAP</td><td>0.325</td></tr><tr><td>val/bbox_mAP_50</td><td>0.847</td></tr><tr><td>val/bbox_mAP_75</td><td>0.223</td></tr><tr><td>val/bbox_mAP_s</td><td>-1.0</td></tr><tr><td>val/bbox_mAP_m</td><td>0.6</td></tr><tr><td>val/bbox_mAP_l</td><td>0.315</td></tr></table>"
      ],
      "text/plain": [
       "<IPython.core.display.HTML object>"
      ]
     },
     "metadata": {},
     "output_type": "display_data"
    },
    {
     "data": {
      "text/html": [
       "<h3>Run history:</h3><br/><style>\n",
       "    table.wandb td:nth-child(1) { padding: 0 10px; text-align: right }\n",
       "    </style><table class=\"wandb\">\n",
       "<tr><td>train/loss_rpn_cls</td><td>█▅▂▁▁▁▁▁▁▁▁▁▁▁▁▁▁▁▁▁▁▁▁▁▁▁▁▁▁▁▁▁▁▁▁▁▁▁▁▁</td></tr><tr><td>train/loss_rpn_bbox</td><td>▆▅▅▃▅▄▄█▅▄▄▁▆▂▃▂▂▄▄▄▃▂▃▁▃▄▃▁▃▂▁▂▂▁▃▂▁▁▂▃</td></tr><tr><td>train/s0.loss_cls</td><td>█▂▂▂▁▁▁▁▂▁▁▁▁▁▁▁▁▁▁▁▁▁▁▁▁▁▁▁▁▁▁▁▁▁▁▁▁▁▁▁</td></tr><tr><td>train/s0.acc</td><td>▁███████████▇████▇█▇▇███▇█▇█████████████</td></tr><tr><td>train/s0.loss_bbox</td><td>▁▄██▇▇▆▇▆▇▇▅▇▆▆▆▅▇▇██▆▆▅▇▆▆▆▇▆▅▅▅▆▅▆▆▅▆▇</td></tr><tr><td>train/s1.loss_cls</td><td>█▁▁▁▁▁▁▁▁▁▁▁▁▁▁▁▁▁▁▁▁▁▁▁▁▁▁▁▁▁▁▁▁▁▁▁▁▁▁▁</td></tr><tr><td>train/s1.acc</td><td>▁████████▇▇▇▇█▇█▇▇▇▇▇▇▇▇▇▇▇▇▇▇▇▇▇▇▇▇▇▇▇▇</td></tr><tr><td>train/s1.loss_bbox</td><td>▁▂▃▃▄▄▄▅▅▅▆▆▇▅▆▆▇▇▇▇█▇▇▇▇▇█▇█▇▇▇▇▇▇██▇██</td></tr><tr><td>train/s2.loss_cls</td><td>█▁▁▁▁▁▁▁▁▁▁▁▁▁▁▁▁▁▁▁▁▁▁▁▁▁▁▁▁▁▁▁▁▁▁▁▁▁▁▁</td></tr><tr><td>train/s2.acc</td><td>▁██████████▇▇▇▇▇▇▇▇▇▇▇▇▇▇▇▇▇▇▇▇▇▇▇▇▇▇▇▇▇</td></tr><tr><td>train/s2.loss_bbox</td><td>▁▁▁▂▂▂▂▃▃▄▄▄▅▄▅▆▆▆▆▆▇▇▇▇▇▇▇▇▇▇████▇██▇██</td></tr><tr><td>train/loss</td><td>█▂▁▁▁▁▁▁▁▁▁▁▁▁▁▁▁▁▁▁▁▁▁▁▁▁▁▁▁▁▁▁▁▁▁▁▁▁▁▁</td></tr><tr><td>learning_rate</td><td>▂▂▃▄▅▆▇████▇▇▇▇▆▆▆▅▅▅▅▄▄▄▃▃▃▂▂▂▂▂▁▁▁▁▁▁▁</td></tr><tr><td>momentum</td><td>▁▁▁▁▁▁▁▁▁▁▁▁▁▁▁▁▁▁▁▁▁▁▁▁▁▁▁▁▁▁▁▁▁▁▁▁▁▁▁▁</td></tr><tr><td>_runtime</td><td>▁▁▁▁▂▂▂▂▂▂▃▃▃▃▃▄▄▄▄▄▅▅▅▅▅▅▆▆▆▆▆▇▇▇▇▇▇▇██</td></tr><tr><td>_timestamp</td><td>▁▁▁▁▂▂▂▂▂▂▃▃▃▃▃▄▄▄▄▄▅▅▅▅▅▅▆▆▆▆▆▇▇▇▇▇▇▇██</td></tr><tr><td>_step</td><td>▁▁▁▁▂▂▂▂▂▃▃▃▃▃▃▄▄▄▄▄▅▅▅▅▅▅▆▆▆▆▆▇▇▇▇▇████</td></tr><tr><td>val/bbox_mAP</td><td>▁▁██</td></tr><tr><td>val/bbox_mAP_50</td><td>▁▅█▇</td></tr><tr><td>val/bbox_mAP_75</td><td>▆▁▁█</td></tr><tr><td>val/bbox_mAP_s</td><td>▁▁▁▁</td></tr><tr><td>val/bbox_mAP_m</td><td>█▁▁█</td></tr><tr><td>val/bbox_mAP_l</td><td>▁▁██</td></tr></table><br/>"
      ],
      "text/plain": [
       "<IPython.core.display.HTML object>"
      ]
     },
     "metadata": {},
     "output_type": "display_data"
    },
    {
     "data": {
      "text/html": [
       "Synced 5 W&B file(s), 0 media file(s), 0 artifact file(s) and 0 other file(s)"
      ],
      "text/plain": [
       "<IPython.core.display.HTML object>"
      ]
     },
     "metadata": {},
     "output_type": "display_data"
    },
    {
     "data": {
      "text/html": [
       "\n",
       "                    <br/>Synced <strong style=\"color:#cdcd00\">exp-cascade_rcnn_r50_fpn_1x-job3</strong>: <a href=\"https://wandb.ai/nekokiku/kaggle_cowboy_outfits/runs/1qzb1cto\" target=\"_blank\">https://wandb.ai/nekokiku/kaggle_cowboy_outfits/runs/1qzb1cto</a><br/>\n",
       "                "
      ],
      "text/plain": [
       "<IPython.core.display.HTML object>"
      ]
     },
     "metadata": {},
     "output_type": "display_data"
    }
   ],
   "source": [
    "train_detector(model, datasets[0], cfg, distributed=False, validate=True)"
   ]
  },
  {
   "cell_type": "markdown",
   "id": "861cd5d7",
   "metadata": {
    "papermill": {
     "duration": 1.201202,
     "end_time": "2021-07-26T13:55:55.411404",
     "exception": false,
     "start_time": "2021-07-26T13:55:54.210202",
     "status": "completed"
    },
    "tags": []
   },
   "source": [
    "<span style=\"color: #E45D00; font-family: Segoe UI; font-size: 1.9em; font-weight: 300;\">📰 Inference and Visualize Output</span>"
   ]
  },
  {
   "cell_type": "code",
   "execution_count": 21,
   "id": "cd2eaa36",
   "metadata": {
    "execution": {
     "iopub.execute_input": "2021-07-26T13:55:56.951993Z",
     "iopub.status.busy": "2021-07-26T13:55:56.950948Z",
     "iopub.status.idle": "2021-07-26T13:55:56.954026Z",
     "shell.execute_reply": "2021-07-26T13:55:56.953514Z",
     "shell.execute_reply.started": "2021-07-26T08:50:25.708321Z"
    },
    "papermill": {
     "duration": 0.780959,
     "end_time": "2021-07-26T13:55:56.954154",
     "exception": false,
     "start_time": "2021-07-26T13:55:56.173195",
     "status": "completed"
    },
    "tags": []
   },
   "outputs": [],
   "source": [
    "import numpy as np\n",
    "from tqdm import tqdm\n",
    "import json  # for dumping json serialized results\n",
    "import zipfile  # for creating submission zip file\n",
    "import pandas as pd\n",
    "import cv2\n",
    "import os\n",
    "from matplotlib import pyplot as plt\n",
    "from mmdet.apis import inference_detector, init_detector, show_result_pyplot"
   ]
  },
  {
   "cell_type": "code",
   "execution_count": 22,
   "id": "49d45910",
   "metadata": {
    "execution": {
     "iopub.execute_input": "2021-07-26T13:55:58.467130Z",
     "iopub.status.busy": "2021-07-26T13:55:58.466240Z",
     "iopub.status.idle": "2021-07-26T13:55:58.474748Z",
     "shell.execute_reply": "2021-07-26T13:55:58.474259Z",
     "shell.execute_reply.started": "2021-07-26T08:50:26.066907Z"
    },
    "papermill": {
     "duration": 0.774434,
     "end_time": "2021-07-26T13:55:58.474874",
     "exception": false,
     "start_time": "2021-07-26T13:55:57.700440",
     "status": "completed"
    },
    "tags": []
   },
   "outputs": [
    {
     "data": {
      "text/plain": [
       "4"
      ]
     },
     "execution_count": 22,
     "metadata": {},
     "output_type": "execute_result"
    }
   ],
   "source": [
    "# Get the best epoch number\n",
    "import json\n",
    "from collections import defaultdict\n",
    "\n",
    "log_file = f'{job_folder}/None.log.json'\n",
    "\n",
    "# Source: mmdetection/tools/analysis_tools/analyze_logs.py \n",
    "def load_json_logs(json_logs):\n",
    "    # load and convert json_logs to log_dict, key is epoch, value is a sub dict\n",
    "    # keys of sub dict is different metrics, e.g. memory, bbox_mAP\n",
    "    # value of sub dict is a list of corresponding values of all iterations\n",
    "    log_dicts = [dict() for _ in json_logs]\n",
    "    for json_log, log_dict in zip(json_logs, log_dicts):\n",
    "        with open(json_log, 'r') as log_file:\n",
    "            for line in log_file:\n",
    "                log = json.loads(line.strip())\n",
    "                # skip lines without `epoch` field\n",
    "                if 'epoch' not in log:\n",
    "                    continue\n",
    "                epoch = log.pop('epoch')\n",
    "                if epoch not in log_dict:\n",
    "                    log_dict[epoch] = defaultdict(list)\n",
    "                for k, v in log.items():\n",
    "                    log_dict[epoch][k].append(v)\n",
    "    return log_dicts\n",
    "\n",
    "log_dict = load_json_logs([log_file])\n",
    "best_epoch = np.argmax([item['bbox_mAP'][0] for item in log_dict[0].values()])+1\n",
    "best_epoch"
   ]
  },
  {
   "cell_type": "code",
   "execution_count": 23,
   "id": "737b9a46",
   "metadata": {
    "execution": {
     "iopub.execute_input": "2021-07-26T13:56:00.014173Z",
     "iopub.status.busy": "2021-07-26T13:56:00.013512Z",
     "iopub.status.idle": "2021-07-26T13:58:37.983112Z",
     "shell.execute_reply": "2021-07-26T13:58:37.976432Z",
     "shell.execute_reply.started": "2021-07-26T08:50:26.472832Z"
    },
    "papermill": {
     "duration": 158.722674,
     "end_time": "2021-07-26T13:58:37.983235",
     "exception": false,
     "start_time": "2021-07-26T13:55:59.260561",
     "status": "completed"
    },
    "tags": []
   },
   "outputs": [
    {
     "name": "stdout",
     "output_type": "stream",
     "text": [
      "Use load_from_local loader\n"
     ]
    },
    {
     "name": "stderr",
     "output_type": "stream",
     "text": [
      "./mmdetection/mmdet/apis/inference.py:47: UserWarning: Class names are not saved in the checkpoint's meta data, use COCO classes by default.\n",
      "  warnings.warn('Class names are not saved in the checkpoint\\'s '\n",
      "0it [00:00, ?it/s]./mmdetection/mmdet/datasets/utils.py:68: UserWarning: \"ImageToTensor\" pipeline is replaced by \"DefaultFormatBundle\" for batch inference. It is recommended to manually replace it in the test data pipeline in your config file.\n",
      "  'data pipeline in your config file.', UserWarning)\n",
      "./mmdetection/mmdet/core/anchor/anchor_generator.py:323: UserWarning: ``grid_anchors`` would be deprecated soon. Please use ``grid_priors`` \n",
      "  warnings.warn('``grid_anchors`` would be deprecated soon. '\n",
      "./mmdetection/mmdet/core/anchor/anchor_generator.py:360: UserWarning: ``single_level_grid_anchors`` would be deprecated soon. Please use ``single_level_grid_priors`` \n",
      "  '``single_level_grid_anchors`` would be deprecated soon. '\n",
      "999it [02:36,  6.39it/s]\n"
     ]
    },
    {
     "name": "stdout",
     "output_type": "stream",
     "text": [
      "/kaggle/working/job3_cascade_rcnn_r50_fpn_1x/job3_cascade_rcnn_r50_fpn_1x_coco.py\n",
      "/kaggle/working/job3_cascade_rcnn_r50_fpn_1x/epoch_4.pth\n"
     ]
    }
   ],
   "source": [
    "\n",
    "def create_submission(df, model, score_thresh=0.1):\n",
    "    results = []\n",
    "    for index, row in tqdm(df.iterrows()):\n",
    "        img_id = row['id']\n",
    "        file_name = row['file_name']\n",
    "        img_base = '/kaggle/input/cowboyoutfits/images/'\n",
    "        img = img_base + file_name\n",
    "        result = inference_detector(model, img)\n",
    "\n",
    "        for i in range(5):\n",
    "            if len(result[i]) != 0:\n",
    "                for j in result[i]:\n",
    "                    j = np.array(j).tolist()\n",
    "                    if j[-1] >= score_thresh:\n",
    "                        # 这里注意原来是xmin, ymin, xmax, ymax.\n",
    "                        # coco 需要的数据格式是xmin, ymin, w, h.\n",
    "                        pred = {'image_id': img_id,\n",
    "                                'category_id': int(classes_id[i]),\n",
    "                                'bbox': [j[0], j[1], j[2]-j[0], j[3]-j[1]],\n",
    "                                'score': j[-1]}\n",
    "                        results.append(pred)\n",
    "    return results\n",
    "\n",
    "#  zip name \n",
    "zip_name = 'cascade_job1'\n",
    "# classes\n",
    "classes = ('belt', 'sunglasses', 'boot', 'cowboy_hat', 'jacket')\n",
    "classes_id = ('87', '1034', '131', '318', '588')\n",
    "\n",
    "# Choose to use a config and checkpoint\n",
    "config = cfg_path\n",
    "# Setup a checkpoint file to load\n",
    "checkpoint = f'{job_folder}/epoch_{best_epoch}.pth'\n",
    "# val path\n",
    "val_path = '/kaggle/input/cowboyoutfits/valid.csv'\n",
    "\n",
    "# submission path\n",
    "submission_path = '/kaggle/working/answer.json'\n",
    "# zipfile path\n",
    "zipfile_path = '/kaggle/working/' + 'zip_' +  zip_name +'.zip'\n",
    "\n",
    "model = init_detector(config, checkpoint, device='cuda:0')\n",
    "submission_df = pd.read_csv(val_path)\n",
    "submission = create_submission(submission_df, model)\n",
    "\n",
    "print(config)\n",
    "print(checkpoint)\n",
    "\n",
    "with open(submission_path, 'w') as f:\n",
    "    json.dump(submission, f)\n",
    "\n",
    "zf = zipfile.ZipFile(zipfile_path, 'w')\n",
    "zf.write(submission_path, 'answer.json')\n",
    "zf.close()"
   ]
  },
  {
   "cell_type": "code",
   "execution_count": 24,
   "id": "74bb1c21",
   "metadata": {
    "execution": {
     "iopub.execute_input": "2021-07-26T13:58:40.080343Z",
     "iopub.status.busy": "2021-07-26T13:58:40.079424Z",
     "iopub.status.idle": "2021-07-26T13:58:40.513178Z",
     "shell.execute_reply": "2021-07-26T13:58:40.513598Z",
     "shell.execute_reply.started": "2021-07-26T08:54:18.615581Z"
    },
    "papermill": {
     "duration": 1.583404,
     "end_time": "2021-07-26T13:58:40.513744",
     "exception": false,
     "start_time": "2021-07-26T13:58:38.930340",
     "status": "completed"
    },
    "tags": []
   },
   "outputs": [
    {
     "name": "stderr",
     "output_type": "stream",
     "text": [
      "/opt/conda/lib/python3.7/site-packages/ipykernel/ipkernel.py:283: DeprecationWarning: `should_run_async` will not call `transform_cell` automatically in the future. Please pass the result to `transformed_cell` argument and any exception that happen during thetransform in `preprocessing_exc_tuple` in IPython 7.17 and above.\n",
      "  and should_run_async(code)\n",
      "100%|██████████| 4503/4503 [00:00<00:00, 1308504.29it/s]"
     ]
    },
    {
     "name": "stdout",
     "output_type": "stream",
     "text": [
      "49b7130a49b28ee4.jpg\n",
      "(683, 1024, 3)\n",
      "len(valid)= 999\n"
     ]
    },
    {
     "name": "stderr",
     "output_type": "stream",
     "text": [
      "\n"
     ]
    },
    {
     "data": {
      "text/plain": [
       "<matplotlib.image.AxesImage at 0x7f59875b1fd0>"
      ]
     },
     "execution_count": 24,
     "metadata": {},
     "output_type": "execute_result"
    },
    {
     "data": {
      "image/png": "[encoded data removed]",
      "text/plain": [
       "<Figure size 432x288 with 1 Axes>"
      ]
     },
     "metadata": {
      "needs_background": "light"
     },
     "output_type": "display_data"
    }
   ],
   "source": [
    "def get_xyxy_from_cowboy(img_name, df, json_label):\n",
    "    xy_list = []\n",
    "    fname_id_dict = {}\n",
    "    for idx, row in df.iterrows():\n",
    "        fname_id_dict.update({row['file_name']: row['id']})\n",
    "    print('len(valid)=', len(fname_id_dict))\n",
    "    with open(json_label) as f:\n",
    "        jdata = json.load(f)\n",
    "        for dict in tqdm(jdata):\n",
    "            image_id = fname_id_dict[img_name]\n",
    "            if image_id == dict['image_id']:\n",
    "                # x_min, y_min, x_max, y_max = dict['bbox']\n",
    "                x, y, w, h = dict['bbox']\n",
    "                x_min, y_min, x_max, y_max = x, y, x + w, y + h\n",
    "                xy_list.append([int(x_min), int(y_min), int(x_max), int(y_max)])\n",
    "\n",
    "    return xy_list\n",
    "\n",
    "\n",
    "def draw_rect(img, xy_list):\n",
    "    for xy in xy_list:\n",
    "        cv2.rectangle(img, (xy[0], xy[1]), (xy[2], xy[3]), (0, 0, 255), 2)\n",
    "\n",
    "\n",
    "dataset_path = '/kaggle/input/cowboyoutfits/images/'\n",
    "df = pd.read_csv('/kaggle/input/cowboyoutfits/valid.csv')\n",
    "img_name = df['file_name'].sample(1).tolist()[0]\n",
    "json_label = '/kaggle/working/answer.json'\n",
    "\n",
    "print(img_name)\n",
    "img = cv2.imread(os.path.join(dataset_path, img_name))\n",
    "print(img.shape)  # (h,w,c)\n",
    "\n",
    "xy_list = get_xyxy_from_cowboy(img_name, df, json_label)\n",
    "draw_rect(img, xy_list)\n",
    "plt.imshow(img)\n"
   ]
  },
  {
   "cell_type": "code",
   "execution_count": 25,
   "id": "15e00927",
   "metadata": {
    "execution": {
     "iopub.execute_input": "2021-07-26T13:58:42.412302Z",
     "iopub.status.busy": "2021-07-26T13:58:42.411568Z",
     "iopub.status.idle": "2021-07-26T13:58:42.610718Z",
     "shell.execute_reply": "2021-07-26T13:58:42.610189Z",
     "shell.execute_reply.started": "2021-07-26T08:54:46.846367Z"
    },
    "papermill": {
     "duration": 1.148229,
     "end_time": "2021-07-26T13:58:42.610846",
     "exception": false,
     "start_time": "2021-07-26T13:58:41.462617",
     "status": "completed"
    },
    "tags": []
   },
   "outputs": [],
   "source": [
    "!rm -rf mmdetection/"
   ]
  }
 ],
 "metadata": {
  "kernelspec": {
   "display_name": "Python 3",
   "language": "python",
   "name": "python3"
  },
  "language_info": {
   "codemirror_mode": {
    "name": "ipython",
    "version": 3
   },
   "file_extension": ".py",
   "mimetype": "text/x-python",
   "name": "python",
   "nbconvert_exporter": "python",
   "pygments_lexer": "ipython3",
   "version": "3.7.10"
  },
  "papermill": {
   "default_parameters": {},
   "duration": 3469.250663,
   "end_time": "2021-07-26T13:58:45.463102",
   "environment_variables": {},
   "exception": null,
   "input_path": "__notebook__.ipynb",
   "output_path": "__notebook__.ipynb",
   "parameters": {},
   "start_time": "2021-07-26T13:00:56.212439",
   "version": "2.3.3"
  },
  "widgets": {
   "application/vnd.jupyter.widget-state+json": {
    "state": {
     "112c23724bfd45d0b3d8cd7f847aa4d0": {
      "model_module": "@jupyter-widgets/controls",
      "model_module_version": "1.5.0",
      "model_name": "HBoxModel",
      "state": {
       "_dom_classes": [],
       "_model_module": "@jupyter-widgets/controls",
       "_model_module_version": "1.5.0",
       "_model_name": "HBoxModel",
       "_view_count": null,
       "_view_module": "@jupyter-widgets/controls",
       "_view_module_version": "1.5.0",
       "_view_name": "HBoxView",
       "box_style": "",
       "children": [
        "IPY_MODEL_8a9bfb72f6b946d287f98c8eb25e2aa1",
        "IPY_MODEL_b35f33b5aec94a0d8bfd42d497b6b05f",
        "IPY_MODEL_47976d7ed8a744ba974880f954196ec9"
       ],
       "layout": "IPY_MODEL_20846125699f4b6aaa6d01e4351f9e99"
      }
     },
     "12ada73314134a1db094f8cbc112fdc1": {
      "model_module": "@jupyter-widgets/base",
      "model_module_version": "1.2.0",
      "model_name": "LayoutModel",
      "state": {
       "_model_module": "@jupyter-widgets/base",
       "_model_module_version": "1.2.0",
       "_model_name": "LayoutModel",
       "_view_count": null,
       "_view_module": "@jupyter-widgets/base",
       "_view_module_version": "1.2.0",
       "_view_name": "LayoutView",
       "align_content": null,
       "align_items": null,
       "align_self": null,
       "border": null,
       "bottom": null,
       "display": null,
       "flex": null,
       "flex_flow": null,
       "grid_area": null,
       "grid_auto_columns": null,
       "grid_auto_flow": null,
       "grid_auto_rows": null,
       "grid_column": null,
       "grid_gap": null,
       "grid_row": null,
       "grid_template_areas": null,
       "grid_template_columns": null,
       "grid_template_rows": null,
       "height": null,
       "justify_content": null,
       "justify_items": null,
       "left": null,
       "margin": null,
       "max_height": null,
       "max_width": null,
       "min_height": null,
       "min_width": null,
       "object_fit": null,
       "object_position": null,
       "order": null,
       "overflow": null,
       "overflow_x": null,
       "overflow_y": null,
       "padding": null,
       "right": null,
       "top": null,
       "visibility": null,
       "width": null
      }
     },
     "1d78561b41a64a1582388f83d1dcfd0d": {
      "model_module": "@jupyter-widgets/base",
      "model_module_version": "1.2.0",
      "model_name": "LayoutModel",
      "state": {
       "_model_module": "@jupyter-widgets/base",
       "_model_module_version": "1.2.0",
       "_model_name": "LayoutModel",
       "_view_count": null,
       "_view_module": "@jupyter-widgets/base",
       "_view_module_version": "1.2.0",
       "_view_name": "LayoutView",
       "align_content": null,
       "align_items": null,
       "align_self": null,
       "border": null,
       "bottom": null,
       "display": null,
       "flex": null,
       "flex_flow": null,
       "grid_area": null,
       "grid_auto_columns": null,
       "grid_auto_flow": null,
       "grid_auto_rows": null,
       "grid_column": null,
       "grid_gap": null,
       "grid_row": null,
       "grid_template_areas": null,
       "grid_template_columns": null,
       "grid_template_rows": null,
       "height": null,
       "justify_content": null,
       "justify_items": null,
       "left": null,
       "margin": null,
       "max_height": null,
       "max_width": null,
       "min_height": null,
       "min_width": null,
       "object_fit": null,
       "object_position": null,
       "order": null,
       "overflow": null,
       "overflow_x": null,
       "overflow_y": null,
       "padding": null,
       "right": null,
       "top": null,
       "visibility": null,
       "width": null
      }
     },
     "20846125699f4b6aaa6d01e4351f9e99": {
      "model_module": "@jupyter-widgets/base",
      "model_module_version": "1.2.0",
      "model_name": "LayoutModel",
      "state": {
       "_model_module": "@jupyter-widgets/base",
       "_model_module_version": "1.2.0",
       "_model_name": "LayoutModel",
       "_view_count": null,
       "_view_module": "@jupyter-widgets/base",
       "_view_module_version": "1.2.0",
       "_view_name": "LayoutView",
       "align_content": null,
       "align_items": null,
       "align_self": null,
       "border": null,
       "bottom": null,
       "display": null,
       "flex": null,
       "flex_flow": null,
       "grid_area": null,
       "grid_auto_columns": null,
       "grid_auto_flow": null,
       "grid_auto_rows": null,
       "grid_column": null,
       "grid_gap": null,
       "grid_row": null,
       "grid_template_areas": null,
       "grid_template_columns": null,
       "grid_template_rows": null,
       "height": null,
       "justify_content": null,
       "justify_items": null,
       "left": null,
       "margin": null,
       "max_height": null,
       "max_width": null,
       "min_height": null,
       "min_width": null,
       "object_fit": null,
       "object_position": null,
       "order": null,
       "overflow": null,
       "overflow_x": null,
       "overflow_y": null,
       "padding": null,
       "right": null,
       "top": null,
       "visibility": null,
       "width": null
      }
     },
     "2884885ef47c4ac886b4dfe1f37f9689": {
      "model_module": "@jupyter-widgets/controls",
      "model_module_version": "1.5.0",
      "model_name": "DescriptionStyleModel",
      "state": {
       "_model_module": "@jupyter-widgets/controls",
       "_model_module_version": "1.5.0",
       "_model_name": "DescriptionStyleModel",
       "_view_count": null,
       "_view_module": "@jupyter-widgets/base",
       "_view_module_version": "1.2.0",
       "_view_name": "StyleView",
       "description_width": ""
      }
     },
     "3646297ad0c74513baa0ff6fe6518ce4": {
      "model_module": "@jupyter-widgets/base",
      "model_module_version": "1.2.0",
      "model_name": "LayoutModel",
      "state": {
       "_model_module": "@jupyter-widgets/base",
       "_model_module_version": "1.2.0",
       "_model_name": "LayoutModel",
       "_view_count": null,
       "_view_module": "@jupyter-widgets/base",
       "_view_module_version": "1.2.0",
       "_view_name": "LayoutView",
       "align_content": null,
       "align_items": null,
       "align_self": null,
       "border": null,
       "bottom": null,
       "display": null,
       "flex": null,
       "flex_flow": null,
       "grid_area": null,
       "grid_auto_columns": null,
       "grid_auto_flow": null,
       "grid_auto_rows": null,
       "grid_column": null,
       "grid_gap": null,
       "grid_row": null,
       "grid_template_areas": null,
       "grid_template_columns": null,
       "grid_template_rows": null,
       "height": null,
       "justify_content": null,
       "justify_items": null,
       "left": null,
       "margin": null,
       "max_height": null,
       "max_width": null,
       "min_height": null,
       "min_width": null,
       "object_fit": null,
       "object_position": null,
       "order": null,
       "overflow": null,
       "overflow_x": null,
       "overflow_y": null,
       "padding": null,
       "right": null,
       "top": null,
       "visibility": null,
       "width": null
      }
     },
     "3665ca587d7c4f369681358e7a84f25f": {
      "model_module": "@jupyter-widgets/base",
      "model_module_version": "1.2.0",
      "model_name": "LayoutModel",
      "state": {
       "_model_module": "@jupyter-widgets/base",
       "_model_module_version": "1.2.0",
       "_model_name": "LayoutModel",
       "_view_count": null,
       "_view_module": "@jupyter-widgets/base",
       "_view_module_version": "1.2.0",
       "_view_name": "LayoutView",
       "align_content": null,
       "align_items": null,
       "align_self": null,
       "border": null,
       "bottom": null,
       "display": null,
       "flex": null,
       "flex_flow": null,
       "grid_area": null,
       "grid_auto_columns": null,
       "grid_auto_flow": null,
       "grid_auto_rows": null,
       "grid_column": null,
       "grid_gap": null,
       "grid_row": null,
       "grid_template_areas": null,
       "grid_template_columns": null,
       "grid_template_rows": null,
       "height": null,
       "justify_content": null,
       "justify_items": null,
       "left": null,
       "margin": null,
       "max_height": null,
       "max_width": null,
       "min_height": null,
       "min_width": null,
       "object_fit": null,
       "object_position": null,
       "order": null,
       "overflow": null,
       "overflow_x": null,
       "overflow_y": null,
       "padding": null,
       "right": null,
       "top": null,
       "visibility": null,
       "width": null
      }
     },
     "3e1587fb6c2546b49f3ba01842d3562a": {
      "model_module": "@jupyter-widgets/base",
      "model_module_version": "1.2.0",
      "model_name": "LayoutModel",
      "state": {
       "_model_module": "@jupyter-widgets/base",
       "_model_module_version": "1.2.0",
       "_model_name": "LayoutModel",
       "_view_count": null,
       "_view_module": "@jupyter-widgets/base",
       "_view_module_version": "1.2.0",
       "_view_name": "LayoutView",
       "align_content": null,
       "align_items": null,
       "align_self": null,
       "border": null,
       "bottom": null,
       "display": null,
       "flex": null,
       "flex_flow": null,
       "grid_area": null,
       "grid_auto_columns": null,
       "grid_auto_flow": null,
       "grid_auto_rows": null,
       "grid_column": null,
       "grid_gap": null,
       "grid_row": null,
       "grid_template_areas": null,
       "grid_template_columns": null,
       "grid_template_rows": null,
       "height": null,
       "justify_content": null,
       "justify_items": null,
       "left": null,
       "margin": null,
       "max_height": null,
       "max_width": null,
       "min_height": null,
       "min_width": null,
       "object_fit": null,
       "object_position": null,
       "order": null,
       "overflow": null,
       "overflow_x": null,
       "overflow_y": null,
       "padding": null,
       "right": null,
       "top": null,
       "visibility": null,
       "width": null
      }
     },
     "47976d7ed8a744ba974880f954196ec9": {
      "model_module": "@jupyter-widgets/controls",
      "model_module_version": "1.5.0",
      "model_name": "HTMLModel",
      "state": {
       "_dom_classes": [],
       "_model_module": "@jupyter-widgets/controls",
       "_model_module_version": "1.5.0",
       "_model_name": "HTMLModel",
       "_view_count": null,
       "_view_module": "@jupyter-widgets/controls",
       "_view_module_version": "1.5.0",
       "_view_name": "HTMLView",
       "description": "",
       "description_tooltip": null,
       "layout": "IPY_MODEL_3646297ad0c74513baa0ff6fe6518ce4",
       "placeholder": "​",
       "style": "IPY_MODEL_7ae3c0cb97564dfab2956df12a1de36b",
       "value": " 97.8M/97.8M [00:03&lt;00:00, 33.8MB/s]"
      }
     },
     "4f696f994a5646639501c664997d8f9a": {
      "model_module": "@jupyter-widgets/controls",
      "model_module_version": "1.5.0",
      "model_name": "DescriptionStyleModel",
      "state": {
       "_model_module": "@jupyter-widgets/controls",
       "_model_module_version": "1.5.0",
       "_model_name": "DescriptionStyleModel",
       "_view_count": null,
       "_view_module": "@jupyter-widgets/base",
       "_view_module_version": "1.2.0",
       "_view_name": "StyleView",
       "description_width": ""
      }
     },
     "5f77443884584c4bb8a5053b4a622b03": {
      "model_module": "@jupyter-widgets/controls",
      "model_module_version": "1.5.0",
      "model_name": "ProgressStyleModel",
      "state": {
       "_model_module": "@jupyter-widgets/controls",
       "_model_module_version": "1.5.0",
       "_model_name": "ProgressStyleModel",
       "_view_count": null,
       "_view_module": "@jupyter-widgets/base",
       "_view_module_version": "1.2.0",
       "_view_name": "StyleView",
       "bar_color": null,
       "description_width": ""
      }
     },
     "71a06c31cec548cdb260fc0f1139e4b4": {
      "model_module": "@jupyter-widgets/controls",
      "model_module_version": "1.5.0",
      "model_name": "LabelModel",
      "state": {
       "_dom_classes": [],
       "_model_module": "@jupyter-widgets/controls",
       "_model_module_version": "1.5.0",
       "_model_name": "LabelModel",
       "_view_count": null,
       "_view_module": "@jupyter-widgets/controls",
       "_view_module_version": "1.5.0",
       "_view_name": "LabelView",
       "description": "",
       "description_tooltip": null,
       "layout": "IPY_MODEL_12ada73314134a1db094f8cbc112fdc1",
       "placeholder": "​",
       "style": "IPY_MODEL_2884885ef47c4ac886b4dfe1f37f9689",
       "value": " 0.04MB of 0.04MB uploaded (0.00MB deduped)\r"
      }
     },
     "71bc7f0499124172aba10bc206d0c722": {
      "model_module": "@jupyter-widgets/controls",
      "model_module_version": "1.5.0",
      "model_name": "VBoxModel",
      "state": {
       "_dom_classes": [],
       "_model_module": "@jupyter-widgets/controls",
       "_model_module_version": "1.5.0",
       "_model_name": "VBoxModel",
       "_view_count": null,
       "_view_module": "@jupyter-widgets/controls",
       "_view_module_version": "1.5.0",
       "_view_name": "VBoxView",
       "box_style": "",
       "children": [
        "IPY_MODEL_71a06c31cec548cdb260fc0f1139e4b4",
        "IPY_MODEL_7f545e41cbd3434fb96f0439f8f20b6c"
       ],
       "layout": "IPY_MODEL_bb38efba2e7b4d6285da1e2f8341a0b8"
      }
     },
     "7ae3c0cb97564dfab2956df12a1de36b": {
      "model_module": "@jupyter-widgets/controls",
      "model_module_version": "1.5.0",
      "model_name": "DescriptionStyleModel",
      "state": {
       "_model_module": "@jupyter-widgets/controls",
       "_model_module_version": "1.5.0",
       "_model_name": "DescriptionStyleModel",
       "_view_count": null,
       "_view_module": "@jupyter-widgets/base",
       "_view_module_version": "1.2.0",
       "_view_name": "StyleView",
       "description_width": ""
      }
     },
     "7f545e41cbd3434fb96f0439f8f20b6c": {
      "model_module": "@jupyter-widgets/controls",
      "model_module_version": "1.5.0",
      "model_name": "FloatProgressModel",
      "state": {
       "_dom_classes": [],
       "_model_module": "@jupyter-widgets/controls",
       "_model_module_version": "1.5.0",
       "_model_name": "FloatProgressModel",
       "_view_count": null,
       "_view_module": "@jupyter-widgets/controls",
       "_view_module_version": "1.5.0",
       "_view_name": "ProgressView",
       "bar_style": "",
       "description": "",
       "description_tooltip": null,
       "layout": "IPY_MODEL_3665ca587d7c4f369681358e7a84f25f",
       "max": 1.0,
       "min": 0.0,
       "orientation": "horizontal",
       "style": "IPY_MODEL_9983ac19a1e14cf29a0a70a346875637",
       "value": 1.0
      }
     },
     "8a9bfb72f6b946d287f98c8eb25e2aa1": {
      "model_module": "@jupyter-widgets/controls",
      "model_module_version": "1.5.0",
      "model_name": "HTMLModel",
      "state": {
       "_dom_classes": [],
       "_model_module": "@jupyter-widgets/controls",
       "_model_module_version": "1.5.0",
       "_model_name": "HTMLModel",
       "_view_count": null,
       "_view_module": "@jupyter-widgets/controls",
       "_view_module_version": "1.5.0",
       "_view_name": "HTMLView",
       "description": "",
       "description_tooltip": null,
       "layout": "IPY_MODEL_3e1587fb6c2546b49f3ba01842d3562a",
       "placeholder": "​",
       "style": "IPY_MODEL_4f696f994a5646639501c664997d8f9a",
       "value": "100%"
      }
     },
     "9983ac19a1e14cf29a0a70a346875637": {
      "model_module": "@jupyter-widgets/controls",
      "model_module_version": "1.5.0",
      "model_name": "ProgressStyleModel",
      "state": {
       "_model_module": "@jupyter-widgets/controls",
       "_model_module_version": "1.5.0",
       "_model_name": "ProgressStyleModel",
       "_view_count": null,
       "_view_module": "@jupyter-widgets/base",
       "_view_module_version": "1.2.0",
       "_view_name": "StyleView",
       "bar_color": null,
       "description_width": ""
      }
     },
     "b35f33b5aec94a0d8bfd42d497b6b05f": {
      "model_module": "@jupyter-widgets/controls",
      "model_module_version": "1.5.0",
      "model_name": "FloatProgressModel",
      "state": {
       "_dom_classes": [],
       "_model_module": "@jupyter-widgets/controls",
       "_model_module_version": "1.5.0",
       "_model_name": "FloatProgressModel",
       "_view_count": null,
       "_view_module": "@jupyter-widgets/controls",
       "_view_module_version": "1.5.0",
       "_view_name": "ProgressView",
       "bar_style": "success",
       "description": "",
       "description_tooltip": null,
       "layout": "IPY_MODEL_1d78561b41a64a1582388f83d1dcfd0d",
       "max": 102502400.0,
       "min": 0.0,
       "orientation": "horizontal",
       "style": "IPY_MODEL_5f77443884584c4bb8a5053b4a622b03",
       "value": 102502400.0
      }
     },
     "bb38efba2e7b4d6285da1e2f8341a0b8": {
      "model_module": "@jupyter-widgets/base",
      "model_module_version": "1.2.0",
      "model_name": "LayoutModel",
      "state": {
       "_model_module": "@jupyter-widgets/base",
       "_model_module_version": "1.2.0",
       "_model_name": "LayoutModel",
       "_view_count": null,
       "_view_module": "@jupyter-widgets/base",
       "_view_module_version": "1.2.0",
       "_view_name": "LayoutView",
       "align_content": null,
       "align_items": null,
       "align_self": null,
       "border": null,
       "bottom": null,
       "display": null,
       "flex": null,
       "flex_flow": null,
       "grid_area": null,
       "grid_auto_columns": null,
       "grid_auto_flow": null,
       "grid_auto_rows": null,
       "grid_column": null,
       "grid_gap": null,
       "grid_row": null,
       "grid_template_areas": null,
       "grid_template_columns": null,
       "grid_template_rows": null,
       "height": null,
       "justify_content": null,
       "justify_items": null,
       "left": null,
       "margin": null,
       "max_height": null,
       "max_width": null,
       "min_height": null,
       "min_width": null,
       "object_fit": null,
       "object_position": null,
       "order": null,
       "overflow": null,
       "overflow_x": null,
       "overflow_y": null,
       "padding": null,
       "right": null,
       "top": null,
       "visibility": null,
       "width": null
      }
     }
    },
    "version_major": 2,
    "version_minor": 0
   }
  }
 },
 "nbformat": 4,
 "nbformat_minor": 5
}
